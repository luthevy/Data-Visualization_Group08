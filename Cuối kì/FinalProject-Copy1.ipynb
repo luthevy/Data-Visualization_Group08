{
 "cells": [
  {
   "cell_type": "markdown",
   "id": "d4378ce1",
   "metadata": {},
   "source": [
    "## Thu thập dữ liệu và Giới thiệu về dữ liệu"
   ]
  },
  {
   "cell_type": "markdown",
   "id": "36266602",
   "metadata": {},
   "source": [
    "Bộ dữ liệu nhóm sử dụng là bộ dữ liệu đã được thu thập về AQI (Air Quality Index - Chỉ số chất lượng không khí) ở các nơi khác nhau trong Việt Nam vào năm 2020, dữ liệu có các loại đối tượng được đo lường khác nhau như nhiệt độ, độ ẩm, tốc độ gió,...\n",
    "\n",
    "Bộ dữ liệu được lấy thông qua trang web https://data.vietnam.opendevelopmentmekong.net/en/dataset/timelines-dataset-on-air-quality-in-vietnam/resource/c3712765-0d13-4d83-8695-fe803a6d9933"
   ]
  },
  {
   "cell_type": "markdown",
   "id": "84170be8",
   "metadata": {},
   "source": [
    "----"
   ]
  },
  {
   "cell_type": "markdown",
   "id": "dd9107a6",
   "metadata": {},
   "source": [
    "## Thư viện"
   ]
  },
  {
   "cell_type": "code",
   "execution_count": null,
   "id": "e12da6a7",
   "metadata": {},
   "outputs": [],
   "source": [
    "import pandas as pd\n",
    "import numpy as np\n",
    "import seaborn as sns\n",
    "import matplotlib.pyplot as plt"
   ]
  },
  {
   "cell_type": "markdown",
   "id": "26bff67c",
   "metadata": {},
   "source": [
    "----"
   ]
  },
  {
   "cell_type": "markdown",
   "id": "d5215b1b",
   "metadata": {},
   "source": [
    "## Khám phá dữ liệu"
   ]
  },
  {
   "cell_type": "markdown",
   "id": "541ecb7f",
   "metadata": {},
   "source": [
    "### Đọc dữ liệu"
   ]
  },
  {
   "cell_type": "code",
   "execution_count": 2,
   "id": "bb8422c2",
   "metadata": {
    "scrolled": false
   },
   "outputs": [
    {
     "data": {
      "text/html": [
       "<div>\n",
       "<style scoped>\n",
       "    .dataframe tbody tr th:only-of-type {\n",
       "        vertical-align: middle;\n",
       "    }\n",
       "\n",
       "    .dataframe tbody tr th {\n",
       "        vertical-align: top;\n",
       "    }\n",
       "\n",
       "    .dataframe thead th {\n",
       "        text-align: right;\n",
       "    }\n",
       "</style>\n",
       "<table border=\"1\" class=\"dataframe\">\n",
       "  <thead>\n",
       "    <tr style=\"text-align: right;\">\n",
       "      <th></th>\n",
       "      <th>Date</th>\n",
       "      <th>Country</th>\n",
       "      <th>City</th>\n",
       "      <th>Specie</th>\n",
       "      <th>count</th>\n",
       "      <th>min</th>\n",
       "      <th>max</th>\n",
       "      <th>median</th>\n",
       "      <th>variance</th>\n",
       "    </tr>\n",
       "  </thead>\n",
       "  <tbody>\n",
       "    <tr>\n",
       "      <th>0</th>\n",
       "      <td>17/07/2020</td>\n",
       "      <td>VN</td>\n",
       "      <td>Ho Chi Minh City</td>\n",
       "      <td>temperature</td>\n",
       "      <td>24</td>\n",
       "      <td>26.0</td>\n",
       "      <td>34.0</td>\n",
       "      <td>29.5</td>\n",
       "      <td>59.13</td>\n",
       "    </tr>\n",
       "    <tr>\n",
       "      <th>1</th>\n",
       "      <td>21/10/2020</td>\n",
       "      <td>VN</td>\n",
       "      <td>Ho Chi Minh City</td>\n",
       "      <td>temperature</td>\n",
       "      <td>24</td>\n",
       "      <td>26.0</td>\n",
       "      <td>31.0</td>\n",
       "      <td>27.0</td>\n",
       "      <td>26.23</td>\n",
       "    </tr>\n",
       "    <tr>\n",
       "      <th>2</th>\n",
       "      <td>07/11/2020</td>\n",
       "      <td>VN</td>\n",
       "      <td>Ho Chi Minh City</td>\n",
       "      <td>temperature</td>\n",
       "      <td>24</td>\n",
       "      <td>25.0</td>\n",
       "      <td>32.5</td>\n",
       "      <td>28.0</td>\n",
       "      <td>69.20</td>\n",
       "    </tr>\n",
       "    <tr>\n",
       "      <th>3</th>\n",
       "      <td>22/11/2020</td>\n",
       "      <td>VN</td>\n",
       "      <td>Ho Chi Minh City</td>\n",
       "      <td>temperature</td>\n",
       "      <td>24</td>\n",
       "      <td>24.0</td>\n",
       "      <td>33.5</td>\n",
       "      <td>26.0</td>\n",
       "      <td>102.39</td>\n",
       "    </tr>\n",
       "    <tr>\n",
       "      <th>4</th>\n",
       "      <td>10/01/2020</td>\n",
       "      <td>VN</td>\n",
       "      <td>Ho Chi Minh City</td>\n",
       "      <td>temperature</td>\n",
       "      <td>24</td>\n",
       "      <td>23.5</td>\n",
       "      <td>34.0</td>\n",
       "      <td>28.5</td>\n",
       "      <td>125.65</td>\n",
       "    </tr>\n",
       "    <tr>\n",
       "      <th>5</th>\n",
       "      <td>27/01/2020</td>\n",
       "      <td>VN</td>\n",
       "      <td>Ho Chi Minh City</td>\n",
       "      <td>temperature</td>\n",
       "      <td>24</td>\n",
       "      <td>25.0</td>\n",
       "      <td>32.0</td>\n",
       "      <td>26.0</td>\n",
       "      <td>64.40</td>\n",
       "    </tr>\n",
       "    <tr>\n",
       "      <th>6</th>\n",
       "      <td>19/03/2020</td>\n",
       "      <td>VN</td>\n",
       "      <td>Ho Chi Minh City</td>\n",
       "      <td>temperature</td>\n",
       "      <td>24</td>\n",
       "      <td>27.0</td>\n",
       "      <td>34.5</td>\n",
       "      <td>28.0</td>\n",
       "      <td>83.97</td>\n",
       "    </tr>\n",
       "    <tr>\n",
       "      <th>7</th>\n",
       "      <td>18/05/2020</td>\n",
       "      <td>VN</td>\n",
       "      <td>Ho Chi Minh City</td>\n",
       "      <td>temperature</td>\n",
       "      <td>24</td>\n",
       "      <td>28.5</td>\n",
       "      <td>36.5</td>\n",
       "      <td>31.0</td>\n",
       "      <td>73.87</td>\n",
       "    </tr>\n",
       "    <tr>\n",
       "      <th>8</th>\n",
       "      <td>28/05/2020</td>\n",
       "      <td>VN</td>\n",
       "      <td>Ho Chi Minh City</td>\n",
       "      <td>temperature</td>\n",
       "      <td>24</td>\n",
       "      <td>27.0</td>\n",
       "      <td>34.0</td>\n",
       "      <td>28.0</td>\n",
       "      <td>43.58</td>\n",
       "    </tr>\n",
       "    <tr>\n",
       "      <th>9</th>\n",
       "      <td>27/08/2020</td>\n",
       "      <td>VN</td>\n",
       "      <td>Ho Chi Minh City</td>\n",
       "      <td>temperature</td>\n",
       "      <td>24</td>\n",
       "      <td>27.0</td>\n",
       "      <td>34.0</td>\n",
       "      <td>30.0</td>\n",
       "      <td>58.37</td>\n",
       "    </tr>\n",
       "  </tbody>\n",
       "</table>\n",
       "</div>"
      ],
      "text/plain": [
       "         Date Country              City       Specie  count   min   max  \\\n",
       "0  17/07/2020      VN  Ho Chi Minh City  temperature     24  26.0  34.0   \n",
       "1  21/10/2020      VN  Ho Chi Minh City  temperature     24  26.0  31.0   \n",
       "2  07/11/2020      VN  Ho Chi Minh City  temperature     24  25.0  32.5   \n",
       "3  22/11/2020      VN  Ho Chi Minh City  temperature     24  24.0  33.5   \n",
       "4  10/01/2020      VN  Ho Chi Minh City  temperature     24  23.5  34.0   \n",
       "5  27/01/2020      VN  Ho Chi Minh City  temperature     24  25.0  32.0   \n",
       "6  19/03/2020      VN  Ho Chi Minh City  temperature     24  27.0  34.5   \n",
       "7  18/05/2020      VN  Ho Chi Minh City  temperature     24  28.5  36.5   \n",
       "8  28/05/2020      VN  Ho Chi Minh City  temperature     24  27.0  34.0   \n",
       "9  27/08/2020      VN  Ho Chi Minh City  temperature     24  27.0  34.0   \n",
       "\n",
       "   median  variance  \n",
       "0    29.5     59.13  \n",
       "1    27.0     26.23  \n",
       "2    28.0     69.20  \n",
       "3    26.0    102.39  \n",
       "4    28.5    125.65  \n",
       "5    26.0     64.40  \n",
       "6    28.0     83.97  \n",
       "7    31.0     73.87  \n",
       "8    28.0     43.58  \n",
       "9    30.0     58.37  "
      ]
     },
     "execution_count": 2,
     "metadata": {},
     "output_type": "execute_result"
    }
   ],
   "source": [
    "df = pd.read_csv('aqi_airqualitydata_2020_en.csv',',')\n",
    "df.head(10)"
   ]
  },
  {
   "cell_type": "markdown",
   "id": "933c8c80",
   "metadata": {},
   "source": [
    "--------"
   ]
  },
  {
   "cell_type": "markdown",
   "id": "f523f94b",
   "metadata": {},
   "source": [
    "### Thông tin cơ bản"
   ]
  },
  {
   "cell_type": "markdown",
   "id": "bb4d6f56",
   "metadata": {},
   "source": [
    "**Số dòng và cột**"
   ]
  },
  {
   "cell_type": "code",
   "execution_count": 3,
   "id": "91b200a3",
   "metadata": {
    "scrolled": true
   },
   "outputs": [
    {
     "data": {
      "text/plain": [
       "(16227, 9)"
      ]
     },
     "execution_count": 3,
     "metadata": {},
     "output_type": "execute_result"
    }
   ],
   "source": [
    "df.shape"
   ]
  },
  {
   "cell_type": "markdown",
   "id": "1df162ba",
   "metadata": {},
   "source": [
    "**Ý nghĩa của từng cột**"
   ]
  },
  {
   "cell_type": "code",
   "execution_count": 4,
   "id": "99a82571",
   "metadata": {},
   "outputs": [
    {
     "data": {
      "text/plain": [
       "Index(['Date', 'Country', 'City', 'Specie', 'count', 'min', 'max', 'median',\n",
       "       'variance'],\n",
       "      dtype='object')"
      ]
     },
     "execution_count": 4,
     "metadata": {},
     "output_type": "execute_result"
    }
   ],
   "source": [
    "df.columns"
   ]
  },
  {
   "cell_type": "markdown",
   "id": "529c076a",
   "metadata": {},
   "source": [
    "- **Date**: ngày đo lường\n",
    "- **Country**: quốc gia\n",
    "- **City**: thành phố\n",
    "- **Specie**: đối tượng được đo lường\n",
    "- **count**: số lần đo lường trong 1 ngày\n",
    "- **min**: giá trị thấp nhất của đối tượng đo lường trong 1 ngày\n",
    "- **max**: giá trị cao nhất của đối tượng đo lường trong 1 ngày\n",
    "- **median**: giá trị trung vị của đối tượng đo lường trong 1 ngày\n",
    "- **variance**: giá trị phương sai của đối tượng đo lường trong 1 ngày"
   ]
  },
  {
   "cell_type": "markdown",
   "id": "d99248c2",
   "metadata": {},
   "source": [
    "**Kiểu dữ liệu của từng cột**"
   ]
  },
  {
   "cell_type": "code",
   "execution_count": 5,
   "id": "ad417fa3",
   "metadata": {
    "scrolled": true
   },
   "outputs": [
    {
     "data": {
      "text/plain": [
       "Date         object\n",
       "Country      object\n",
       "City         object\n",
       "Specie       object\n",
       "count         int64\n",
       "min         float64\n",
       "max         float64\n",
       "median      float64\n",
       "variance    float64\n",
       "dtype: object"
      ]
     },
     "execution_count": 5,
     "metadata": {},
     "output_type": "execute_result"
    }
   ],
   "source": [
    "df.dtypes"
   ]
  },
  {
   "cell_type": "markdown",
   "id": "6c32bc33",
   "metadata": {},
   "source": [
    "**Cột bất thường**"
   ]
  },
  {
   "cell_type": "code",
   "execution_count": 6,
   "id": "d79d9e20",
   "metadata": {},
   "outputs": [
    {
     "name": "stdout",
     "output_type": "stream",
     "text": [
      "<class 'pandas.core.frame.DataFrame'>\n",
      "RangeIndex: 16227 entries, 0 to 16226\n",
      "Data columns (total 9 columns):\n",
      " #   Column    Non-Null Count  Dtype  \n",
      "---  ------    --------------  -----  \n",
      " 0   Date      16227 non-null  object \n",
      " 1   Country   16227 non-null  object \n",
      " 2   City      16227 non-null  object \n",
      " 3   Specie    16227 non-null  object \n",
      " 4   count     16227 non-null  int64  \n",
      " 5   min       16227 non-null  float64\n",
      " 6   max       16227 non-null  float64\n",
      " 7   median    16227 non-null  float64\n",
      " 8   variance  16227 non-null  float64\n",
      "dtypes: float64(4), int64(1), object(4)\n",
      "memory usage: 1.1+ MB\n"
     ]
    }
   ],
   "source": [
    "df.info()"
   ]
  },
  {
   "cell_type": "markdown",
   "id": "650d0d90",
   "metadata": {},
   "source": [
    "Có vẻ như không có cột nào bất thường cả vì không có cột nào bị thiếu dữ liệu."
   ]
  },
  {
   "cell_type": "markdown",
   "id": "54015cad",
   "metadata": {},
   "source": [
    "**Dòng bất thường**"
   ]
  },
  {
   "cell_type": "code",
   "execution_count": 7,
   "id": "dae06a44",
   "metadata": {
    "scrolled": true
   },
   "outputs": [
    {
     "data": {
      "text/plain": [
       "Date        0\n",
       "Country     0\n",
       "City        0\n",
       "Specie      0\n",
       "count       0\n",
       "min         0\n",
       "max         0\n",
       "median      0\n",
       "variance    0\n",
       "dtype: int64"
      ]
     },
     "execution_count": 7,
     "metadata": {},
     "output_type": "execute_result"
    }
   ],
   "source": [
    "df.isnull().sum()"
   ]
  },
  {
   "cell_type": "markdown",
   "id": "a1ed60e6",
   "metadata": {},
   "source": [
    "Không có dòng bị thiếu, bất thường."
   ]
  },
  {
   "cell_type": "markdown",
   "id": "55301be0",
   "metadata": {},
   "source": [
    "**Dòng bị lặp**"
   ]
  },
  {
   "cell_type": "code",
   "execution_count": 8,
   "id": "ea07610d",
   "metadata": {
    "scrolled": true
   },
   "outputs": [
    {
     "data": {
      "text/plain": [
       "0"
      ]
     },
     "execution_count": 8,
     "metadata": {},
     "output_type": "execute_result"
    }
   ],
   "source": [
    "df.duplicated().sum()"
   ]
  },
  {
   "cell_type": "markdown",
   "id": "476ad179",
   "metadata": {},
   "source": [
    "----"
   ]
  },
  {
   "cell_type": "markdown",
   "id": "95c710ce",
   "metadata": {},
   "source": [
    "## Tiền xử lý dữ liệu"
   ]
  },
  {
   "cell_type": "markdown",
   "id": "a8166786",
   "metadata": {},
   "source": [
    "**Cột cần loại bỏ**"
   ]
  },
  {
   "cell_type": "markdown",
   "id": "0f07c80d",
   "metadata": {},
   "source": [
    "Vì cột Country chỉ có 1 giá trị duy nhất là VN (dữ liệu này được lấy ở Việt Nam) nên ta sẽ bỏ cột này."
   ]
  },
  {
   "cell_type": "code",
   "execution_count": 9,
   "id": "dcb89818",
   "metadata": {},
   "outputs": [
    {
     "data": {
      "text/html": [
       "<div>\n",
       "<style scoped>\n",
       "    .dataframe tbody tr th:only-of-type {\n",
       "        vertical-align: middle;\n",
       "    }\n",
       "\n",
       "    .dataframe tbody tr th {\n",
       "        vertical-align: top;\n",
       "    }\n",
       "\n",
       "    .dataframe thead th {\n",
       "        text-align: right;\n",
       "    }\n",
       "</style>\n",
       "<table border=\"1\" class=\"dataframe\">\n",
       "  <thead>\n",
       "    <tr style=\"text-align: right;\">\n",
       "      <th></th>\n",
       "      <th>Date</th>\n",
       "      <th>City</th>\n",
       "      <th>Specie</th>\n",
       "      <th>count</th>\n",
       "      <th>min</th>\n",
       "      <th>max</th>\n",
       "      <th>median</th>\n",
       "      <th>variance</th>\n",
       "    </tr>\n",
       "  </thead>\n",
       "  <tbody>\n",
       "    <tr>\n",
       "      <th>0</th>\n",
       "      <td>17/07/2020</td>\n",
       "      <td>Ho Chi Minh City</td>\n",
       "      <td>temperature</td>\n",
       "      <td>24</td>\n",
       "      <td>26.0</td>\n",
       "      <td>34.0</td>\n",
       "      <td>29.5</td>\n",
       "      <td>59.13</td>\n",
       "    </tr>\n",
       "    <tr>\n",
       "      <th>1</th>\n",
       "      <td>21/10/2020</td>\n",
       "      <td>Ho Chi Minh City</td>\n",
       "      <td>temperature</td>\n",
       "      <td>24</td>\n",
       "      <td>26.0</td>\n",
       "      <td>31.0</td>\n",
       "      <td>27.0</td>\n",
       "      <td>26.23</td>\n",
       "    </tr>\n",
       "    <tr>\n",
       "      <th>2</th>\n",
       "      <td>07/11/2020</td>\n",
       "      <td>Ho Chi Minh City</td>\n",
       "      <td>temperature</td>\n",
       "      <td>24</td>\n",
       "      <td>25.0</td>\n",
       "      <td>32.5</td>\n",
       "      <td>28.0</td>\n",
       "      <td>69.20</td>\n",
       "    </tr>\n",
       "    <tr>\n",
       "      <th>3</th>\n",
       "      <td>22/11/2020</td>\n",
       "      <td>Ho Chi Minh City</td>\n",
       "      <td>temperature</td>\n",
       "      <td>24</td>\n",
       "      <td>24.0</td>\n",
       "      <td>33.5</td>\n",
       "      <td>26.0</td>\n",
       "      <td>102.39</td>\n",
       "    </tr>\n",
       "    <tr>\n",
       "      <th>4</th>\n",
       "      <td>10/01/2020</td>\n",
       "      <td>Ho Chi Minh City</td>\n",
       "      <td>temperature</td>\n",
       "      <td>24</td>\n",
       "      <td>23.5</td>\n",
       "      <td>34.0</td>\n",
       "      <td>28.5</td>\n",
       "      <td>125.65</td>\n",
       "    </tr>\n",
       "    <tr>\n",
       "      <th>...</th>\n",
       "      <td>...</td>\n",
       "      <td>...</td>\n",
       "      <td>...</td>\n",
       "      <td>...</td>\n",
       "      <td>...</td>\n",
       "      <td>...</td>\n",
       "      <td>...</td>\n",
       "      <td>...</td>\n",
       "    </tr>\n",
       "    <tr>\n",
       "      <th>16222</th>\n",
       "      <td>26/02/2020</td>\n",
       "      <td>Ha Long</td>\n",
       "      <td>co</td>\n",
       "      <td>28</td>\n",
       "      <td>1.0</td>\n",
       "      <td>9.0</td>\n",
       "      <td>4.0</td>\n",
       "      <td>88.19</td>\n",
       "    </tr>\n",
       "    <tr>\n",
       "      <th>16223</th>\n",
       "      <td>27/02/2020</td>\n",
       "      <td>Ha Long</td>\n",
       "      <td>co</td>\n",
       "      <td>34</td>\n",
       "      <td>2.0</td>\n",
       "      <td>9.0</td>\n",
       "      <td>8.0</td>\n",
       "      <td>48.52</td>\n",
       "    </tr>\n",
       "    <tr>\n",
       "      <th>16224</th>\n",
       "      <td>29/02/2020</td>\n",
       "      <td>Ha Long</td>\n",
       "      <td>co</td>\n",
       "      <td>22</td>\n",
       "      <td>8.0</td>\n",
       "      <td>9.0</td>\n",
       "      <td>8.0</td>\n",
       "      <td>2.27</td>\n",
       "    </tr>\n",
       "    <tr>\n",
       "      <th>16225</th>\n",
       "      <td>24/06/2020</td>\n",
       "      <td>Ha Long</td>\n",
       "      <td>co</td>\n",
       "      <td>48</td>\n",
       "      <td>4.0</td>\n",
       "      <td>8.0</td>\n",
       "      <td>5.0</td>\n",
       "      <td>13.36</td>\n",
       "    </tr>\n",
       "    <tr>\n",
       "      <th>16226</th>\n",
       "      <td>25/06/2020</td>\n",
       "      <td>Ha Long</td>\n",
       "      <td>co</td>\n",
       "      <td>48</td>\n",
       "      <td>4.0</td>\n",
       "      <td>11.0</td>\n",
       "      <td>7.0</td>\n",
       "      <td>29.08</td>\n",
       "    </tr>\n",
       "  </tbody>\n",
       "</table>\n",
       "<p>16227 rows × 8 columns</p>\n",
       "</div>"
      ],
      "text/plain": [
       "             Date              City       Specie  count   min   max  median  \\\n",
       "0      17/07/2020  Ho Chi Minh City  temperature     24  26.0  34.0    29.5   \n",
       "1      21/10/2020  Ho Chi Minh City  temperature     24  26.0  31.0    27.0   \n",
       "2      07/11/2020  Ho Chi Minh City  temperature     24  25.0  32.5    28.0   \n",
       "3      22/11/2020  Ho Chi Minh City  temperature     24  24.0  33.5    26.0   \n",
       "4      10/01/2020  Ho Chi Minh City  temperature     24  23.5  34.0    28.5   \n",
       "...           ...               ...          ...    ...   ...   ...     ...   \n",
       "16222  26/02/2020           Ha Long           co     28   1.0   9.0     4.0   \n",
       "16223  27/02/2020           Ha Long           co     34   2.0   9.0     8.0   \n",
       "16224  29/02/2020           Ha Long           co     22   8.0   9.0     8.0   \n",
       "16225  24/06/2020           Ha Long           co     48   4.0   8.0     5.0   \n",
       "16226  25/06/2020           Ha Long           co     48   4.0  11.0     7.0   \n",
       "\n",
       "       variance  \n",
       "0         59.13  \n",
       "1         26.23  \n",
       "2         69.20  \n",
       "3        102.39  \n",
       "4        125.65  \n",
       "...         ...  \n",
       "16222     88.19  \n",
       "16223     48.52  \n",
       "16224      2.27  \n",
       "16225     13.36  \n",
       "16226     29.08  \n",
       "\n",
       "[16227 rows x 8 columns]"
      ]
     },
     "execution_count": 9,
     "metadata": {},
     "output_type": "execute_result"
    }
   ],
   "source": [
    "df.drop('Country',axis=1,inplace=True)\n",
    "df"
   ]
  },
  {
   "cell_type": "markdown",
   "id": "22cac5df",
   "metadata": {},
   "source": [
    "**Thay đổi kiểu dữ liệu thích hợp cho các cột**"
   ]
  },
  {
   "cell_type": "markdown",
   "id": "79446f08",
   "metadata": {},
   "source": [
    "Ta sẽ thay đổi kiểu dữ liệu cho cột date thành kiểu datetime, các cột có kiểu object ta sẽ chuyển thành kiểu string."
   ]
  },
  {
   "cell_type": "code",
   "execution_count": 11,
   "id": "221f7440",
   "metadata": {},
   "outputs": [],
   "source": [
    "df['Date'] = pd.to_datetime(df['Date'])\n",
    "\n",
    "df['City'] = df['City'].astype('string')\n",
    "\n",
    "df['Specie'] = df['Specie'].astype('string')"
   ]
  },
  {
   "cell_type": "code",
   "execution_count": 12,
   "id": "4403222e",
   "metadata": {},
   "outputs": [
    {
     "data": {
      "text/plain": [
       "Date        datetime64[ns]\n",
       "City                string\n",
       "Specie              string\n",
       "count                int64\n",
       "min                float64\n",
       "max                float64\n",
       "median             float64\n",
       "variance           float64\n",
       "dtype: object"
      ]
     },
     "execution_count": 12,
     "metadata": {},
     "output_type": "execute_result"
    }
   ],
   "source": [
    "df.dtypes"
   ]
  },
  {
   "cell_type": "markdown",
   "id": "8895757f",
   "metadata": {},
   "source": [
    "**Thay đổi khác**"
   ]
  },
  {
   "cell_type": "markdown",
   "id": "c3b401a1",
   "metadata": {},
   "source": [
    "Trong cột Specie, có giá trị trùng tên nhau như: wind-speed và wind speed, wind-gust và wind gust, nên ta sẽ chuyển các Specie này theo 1 tên giống nhau."
   ]
  },
  {
   "cell_type": "code",
   "execution_count": 13,
   "id": "6be524b3",
   "metadata": {},
   "outputs": [],
   "source": [
    "df.loc[df['Specie'] == 'wind-speed', 'Specie'] = 'wind speed'\n",
    "df.loc[df['Specie'] == 'wind-gust', 'Specie'] = 'wind gust'"
   ]
  },
  {
   "cell_type": "code",
   "execution_count": 15,
   "id": "a54c383c",
   "metadata": {
    "scrolled": true
   },
   "outputs": [
    {
     "data": {
      "text/html": [
       "<div>\n",
       "<style scoped>\n",
       "    .dataframe tbody tr th:only-of-type {\n",
       "        vertical-align: middle;\n",
       "    }\n",
       "\n",
       "    .dataframe tbody tr th {\n",
       "        vertical-align: top;\n",
       "    }\n",
       "\n",
       "    .dataframe thead th {\n",
       "        text-align: right;\n",
       "    }\n",
       "</style>\n",
       "<table border=\"1\" class=\"dataframe\">\n",
       "  <thead>\n",
       "    <tr style=\"text-align: right;\">\n",
       "      <th></th>\n",
       "      <th>Date</th>\n",
       "      <th>City</th>\n",
       "      <th>Specie</th>\n",
       "      <th>count</th>\n",
       "      <th>min</th>\n",
       "      <th>max</th>\n",
       "      <th>median</th>\n",
       "      <th>variance</th>\n",
       "    </tr>\n",
       "  </thead>\n",
       "  <tbody>\n",
       "  </tbody>\n",
       "</table>\n",
       "</div>"
      ],
      "text/plain": [
       "Empty DataFrame\n",
       "Columns: [Date, City, Specie, count, min, max, median, variance]\n",
       "Index: []"
      ]
     },
     "execution_count": 15,
     "metadata": {},
     "output_type": "execute_result"
    }
   ],
   "source": [
    "df[(df['Specie'] == 'wind-speed') | (df['Specie'] == 'wind-gust')]"
   ]
  },
  {
   "cell_type": "markdown",
   "id": "df4c7883",
   "metadata": {},
   "source": [
    "----"
   ]
  },
  {
   "cell_type": "markdown",
   "id": "8996069f",
   "metadata": {},
   "source": [
    "## Khám phá dữ liệu (tiếp theo)"
   ]
  },
  {
   "cell_type": "markdown",
   "id": "96021224",
   "metadata": {},
   "source": [
    "### Phân bố dữ liệu"
   ]
  },
  {
   "cell_type": "markdown",
   "id": "53072c4e",
   "metadata": {},
   "source": [
    "**Kiểu numerical**"
   ]
  },
  {
   "cell_type": "code",
   "execution_count": 16,
   "id": "47b6df43",
   "metadata": {},
   "outputs": [],
   "source": [
    "def missing_ratio(col):\n",
    "    return col.isna().mean() * 100\n",
    "\n",
    "def first_quartile(col):\n",
    "    return col.quantile(0.25)\n",
    "\n",
    "def third_quartile(col):\n",
    "    return col.quantile(0.75)"
   ]
  },
  {
   "cell_type": "code",
   "execution_count": 17,
   "id": "5c41e79c",
   "metadata": {
    "scrolled": true
   },
   "outputs": [
    {
     "data": {
      "text/html": [
       "<div>\n",
       "<style scoped>\n",
       "    .dataframe tbody tr th:only-of-type {\n",
       "        vertical-align: middle;\n",
       "    }\n",
       "\n",
       "    .dataframe tbody tr th {\n",
       "        vertical-align: top;\n",
       "    }\n",
       "\n",
       "    .dataframe thead th {\n",
       "        text-align: right;\n",
       "    }\n",
       "</style>\n",
       "<table border=\"1\" class=\"dataframe\">\n",
       "  <thead>\n",
       "    <tr style=\"text-align: right;\">\n",
       "      <th></th>\n",
       "      <th>Date</th>\n",
       "      <th>count</th>\n",
       "      <th>min</th>\n",
       "      <th>max</th>\n",
       "      <th>median</th>\n",
       "      <th>variance</th>\n",
       "    </tr>\n",
       "  </thead>\n",
       "  <tbody>\n",
       "    <tr>\n",
       "      <th>missing_ratio</th>\n",
       "      <td>0.0</td>\n",
       "      <td>0.000</td>\n",
       "      <td>0.000</td>\n",
       "      <td>0.000</td>\n",
       "      <td>0.000</td>\n",
       "      <td>0.000</td>\n",
       "    </tr>\n",
       "    <tr>\n",
       "      <th>min</th>\n",
       "      <td>2019-12-30 00:00:00</td>\n",
       "      <td>2.000</td>\n",
       "      <td>-7.000</td>\n",
       "      <td>0.000</td>\n",
       "      <td>-3.000</td>\n",
       "      <td>0.000</td>\n",
       "    </tr>\n",
       "    <tr>\n",
       "      <th>max</th>\n",
       "      <td>2021-12-01 00:00:00</td>\n",
       "      <td>72.000</td>\n",
       "      <td>1026.000</td>\n",
       "      <td>1271.000</td>\n",
       "      <td>1028.500</td>\n",
       "      <td>622638.000</td>\n",
       "    </tr>\n",
       "    <tr>\n",
       "      <th>mean</th>\n",
       "      <td>2020-07-21 20:07:03.294509312</td>\n",
       "      <td>26.325</td>\n",
       "      <td>126.461</td>\n",
       "      <td>144.628</td>\n",
       "      <td>133.418</td>\n",
       "      <td>1106.045</td>\n",
       "    </tr>\n",
       "    <tr>\n",
       "      <th>first_quartile</th>\n",
       "      <td>2020-04-13 00:00:00</td>\n",
       "      <td>16.000</td>\n",
       "      <td>3.000</td>\n",
       "      <td>15.000</td>\n",
       "      <td>7.000</td>\n",
       "      <td>12.570</td>\n",
       "    </tr>\n",
       "    <tr>\n",
       "      <th>median</th>\n",
       "      <td>2020-07-18 00:00:00</td>\n",
       "      <td>24.000</td>\n",
       "      <td>18.000</td>\n",
       "      <td>28.000</td>\n",
       "      <td>22.300</td>\n",
       "      <td>51.300</td>\n",
       "    </tr>\n",
       "    <tr>\n",
       "      <th>third_quartile</th>\n",
       "      <td>2020-10-21 00:00:00</td>\n",
       "      <td>24.000</td>\n",
       "      <td>40.000</td>\n",
       "      <td>90.550</td>\n",
       "      <td>63.500</td>\n",
       "      <td>427.995</td>\n",
       "    </tr>\n",
       "  </tbody>\n",
       "</table>\n",
       "</div>"
      ],
      "text/plain": [
       "                                         Date   count       min       max  \\\n",
       "missing_ratio                             0.0   0.000     0.000     0.000   \n",
       "min                       2019-12-30 00:00:00   2.000    -7.000     0.000   \n",
       "max                       2021-12-01 00:00:00  72.000  1026.000  1271.000   \n",
       "mean            2020-07-21 20:07:03.294509312  26.325   126.461   144.628   \n",
       "first_quartile            2020-04-13 00:00:00  16.000     3.000    15.000   \n",
       "median                    2020-07-18 00:00:00  24.000    18.000    28.000   \n",
       "third_quartile            2020-10-21 00:00:00  24.000    40.000    90.550   \n",
       "\n",
       "                  median    variance  \n",
       "missing_ratio      0.000       0.000  \n",
       "min               -3.000       0.000  \n",
       "max             1028.500  622638.000  \n",
       "mean             133.418    1106.045  \n",
       "first_quartile     7.000      12.570  \n",
       "median            22.300      51.300  \n",
       "third_quartile    63.500     427.995  "
      ]
     },
     "execution_count": 17,
     "metadata": {},
     "output_type": "execute_result"
    }
   ],
   "source": [
    "num_col_profiles_df = df[['Date','count', 'min', 'max', 'median','variance']]\n",
    "num_col_profiles_df = num_col_profiles_df.agg([missing_ratio, pd.Series.min, pd.Series.max, pd.Series.mean,\n",
    "                                               first_quartile, pd.Series.median, third_quartile])\n",
    "num_col_profiles_df.round(3)"
   ]
  },
  {
   "cell_type": "markdown",
   "id": "53fb6f8b",
   "metadata": {},
   "source": [
    "**Kiểu categorical**"
   ]
  },
  {
   "cell_type": "code",
   "execution_count": 19,
   "id": "62acf4f8",
   "metadata": {},
   "outputs": [
    {
     "data": {
      "text/html": [
       "<div>\n",
       "<style scoped>\n",
       "    .dataframe tbody tr th:only-of-type {\n",
       "        vertical-align: middle;\n",
       "    }\n",
       "\n",
       "    .dataframe tbody tr th {\n",
       "        vertical-align: top;\n",
       "    }\n",
       "\n",
       "    .dataframe thead th {\n",
       "        text-align: right;\n",
       "    }\n",
       "</style>\n",
       "<table border=\"1\" class=\"dataframe\">\n",
       "  <thead>\n",
       "    <tr style=\"text-align: right;\">\n",
       "      <th></th>\n",
       "      <th>City</th>\n",
       "      <th>Specie</th>\n",
       "    </tr>\n",
       "  </thead>\n",
       "  <tbody>\n",
       "    <tr>\n",
       "      <th>missing_ratio</th>\n",
       "      <td>0.0</td>\n",
       "      <td>0.0</td>\n",
       "    </tr>\n",
       "    <tr>\n",
       "      <th>unique</th>\n",
       "      <td>[Ho Chi Minh City, Hue, Ha Noi, Hai Phong, Ha ...</td>\n",
       "      <td>[temperature, humidity, wind speed, wind gust,...</td>\n",
       "    </tr>\n",
       "    <tr>\n",
       "      <th>nunique</th>\n",
       "      <td>5</td>\n",
       "      <td>14</td>\n",
       "    </tr>\n",
       "  </tbody>\n",
       "</table>\n",
       "</div>"
      ],
      "text/plain": [
       "                                                            City  \\\n",
       "missing_ratio                                                0.0   \n",
       "unique         [Ho Chi Minh City, Hue, Ha Noi, Hai Phong, Ha ...   \n",
       "nunique                                                        5   \n",
       "\n",
       "                                                          Specie  \n",
       "missing_ratio                                                0.0  \n",
       "unique         [temperature, humidity, wind speed, wind gust,...  \n",
       "nunique                                                       14  "
      ]
     },
     "execution_count": 19,
     "metadata": {},
     "output_type": "execute_result"
    }
   ],
   "source": [
    "cat_col_profiles_df = df[['City', 'Specie']]\n",
    "cat_col_profiles_df = cat_col_profiles_df.agg([missing_ratio, pd.Series.unique, pd.Series.nunique])\n",
    "cat_col_profiles_df"
   ]
  },
  {
   "cell_type": "code",
   "execution_count": 20,
   "id": "faf0da37",
   "metadata": {
    "scrolled": true
   },
   "outputs": [
    {
     "data": {
      "image/png": "[encoded data removed]",
      "text/plain": [
       "<Figure size 432x432 with 1 Axes>"
      ]
     },
     "metadata": {},
     "output_type": "display_data"
    }
   ],
   "source": [
    "plt.figure(figsize=(6,6))\n",
    "colors = sns.color_palette('pastel')[0:5]\n",
    "plt.pie(df['City'].value_counts().values,labels=df['City'].value_counts().index,colors=colors,autopct='%.0f%%');"
   ]
  },
  {
   "cell_type": "markdown",
   "id": "a69d90dd",
   "metadata": {},
   "source": [
    "Dữ liệu được lấy có sự phân bố ở các nơi khá đều nhau."
   ]
  },
  {
   "cell_type": "code",
   "execution_count": 42,
   "id": "03279874",
   "metadata": {
    "scrolled": false
   },
   "outputs": [
    {
     "data": {
      "image/png": "[encoded data removed]",
      "text/plain": [
       "<Figure size 864x432 with 1 Axes>"
      ]
     },
     "metadata": {
      "needs_background": "light"
     },
     "output_type": "display_data"
    }
   ],
   "source": [
    "plt.figure(figsize=(12,6))\n",
    "sns.countplot(x=df['Specie'])\n",
    "plt.xticks(rotation=30);"
   ]
  },
  {
   "cell_type": "markdown",
   "id": "bf584162",
   "metadata": {},
   "source": [
    "Cột Specie gồm có những giá trị:\n",
    "   - temperature: nhiệt độ\n",
    "   - humidity: độ ẩm\n",
    "   - wind speed: tốc độ gió\n",
    "   - wind gust: gió giật\n",
    "   - pm25: bụi mịn 2.5 micron\n",
    "   - dew: sương mù\n",
    "   - pressure: áp suất\n",
    "   - co: khí CO\n",
    "   - pm10: bụi mịn 1.0 micron\n",
    "   - so2: khí SO2\n",
    "   - no2: khí NO2\n",
    "   - o3: khí O3\n",
    "   - aqi: chỉ số chất lượng không khí\n",
    "   - precipitation: giáng thuỷ"
   ]
  },
  {
   "cell_type": "code",
   "execution_count": 115,
   "id": "c9132970",
   "metadata": {},
   "outputs": [
    {
     "data": {
      "text/plain": [
       "<AxesSubplot:xlabel='min', ylabel='max'>"
      ]
     },
     "execution_count": 115,
     "metadata": {},
     "output_type": "execute_result"
    },
    {
     "data": {
      "image/png": "[encoded data removed]",
      "text/plain": [
       "<Figure size 432x288 with 1 Axes>"
      ]
     },
     "metadata": {
      "needs_background": "light"
     },
     "output_type": "display_data"
    }
   ],
   "source": [
    "new_df = df[df['Specie']=='o3']\n",
    "sns.scatterplot(x='min',y='max',data=new_df)"
   ]
  },
  {
   "cell_type": "code",
   "execution_count": 130,
   "id": "e2e4f82c",
   "metadata": {},
   "outputs": [],
   "source": [
    "import statsmodels.formula.api as smf"
   ]
  },
  {
   "cell_type": "code",
   "execution_count": 137,
   "id": "d2b86ca1",
   "metadata": {},
   "outputs": [
    {
     "name": "stdout",
     "output_type": "stream",
     "text": [
      "                            OLS Regression Results                            \n",
      "==============================================================================\n",
      "Dep. Variable:               Q(\"min\")   R-squared:                       0.999\n",
      "Model:                            OLS   Adj. R-squared:                  0.999\n",
      "Method:                 Least Squares   F-statistic:                 7.902e+06\n",
      "Date:                Tue, 26 Apr 2022   Prob (F-statistic):               0.00\n",
      "Time:                        08:33:40   Log-Likelihood:                -60042.\n",
      "No. Observations:               16227   AIC:                         1.201e+05\n",
      "Df Residuals:                   16224   BIC:                         1.201e+05\n",
      "Df Model:                           2                                         \n",
      "Covariance Type:            nonrobust                                         \n",
      "===============================================================================\n",
      "                  coef    std err          t      P>|t|      [0.025      0.975]\n",
      "-------------------------------------------------------------------------------\n",
      "Intercept      -4.6235      0.094    -49.438      0.000      -4.807      -4.440\n",
      "Q(\"max\")       -0.2227      0.003    -66.434      0.000      -0.229      -0.216\n",
      "Q(\"median\")     1.2239      0.003    367.110      0.000       1.217       1.230\n",
      "==============================================================================\n",
      "Omnibus:                     9276.558   Durbin-Watson:                   1.260\n",
      "Prob(Omnibus):                  0.000   Jarque-Bera (JB):          3417499.531\n",
      "Skew:                          -1.503   Prob(JB):                         0.00\n",
      "Kurtosis:                      74.032   Cond. No.                         575.\n",
      "==============================================================================\n",
      "\n",
      "Notes:\n",
      "[1] Standard Errors assume that the covariance matrix of the errors is correctly specified.\n"
     ]
    }
   ],
   "source": [
    "print(smf.ols('Q(\"min\")~Q(\"max\")+Q(\"median\")', data=df).fit().summary())"
   ]
  },
  {
   "cell_type": "code",
   "execution_count": 140,
   "id": "67185549",
   "metadata": {},
   "outputs": [
    {
     "ename": "ValueError",
     "evalue": "endog must be in the unit interval.",
     "output_type": "error",
     "traceback": [
      "\u001b[0;31m---------------------------------------------------------------------------\u001b[0m",
      "\u001b[0;31mValueError\u001b[0m                                Traceback (most recent call last)",
      "\u001b[0;32m<ipython-input-140-219a06c3fa0e>\u001b[0m in \u001b[0;36m<module>\u001b[0;34m\u001b[0m\n\u001b[0;32m----> 1\u001b[0;31m \u001b[0mprint\u001b[0m\u001b[0;34m(\u001b[0m\u001b[0msmf\u001b[0m\u001b[0;34m.\u001b[0m\u001b[0mlogit\u001b[0m\u001b[0;34m(\u001b[0m\u001b[0;34m'Q(\"count\")~Q(\"min\")'\u001b[0m\u001b[0;34m,\u001b[0m \u001b[0mdata\u001b[0m\u001b[0;34m=\u001b[0m\u001b[0mdf\u001b[0m\u001b[0;34m)\u001b[0m\u001b[0;34m.\u001b[0m\u001b[0mfit\u001b[0m\u001b[0;34m(\u001b[0m\u001b[0;34m)\u001b[0m\u001b[0;34m.\u001b[0m\u001b[0msummary\u001b[0m\u001b[0;34m(\u001b[0m\u001b[0;34m)\u001b[0m\u001b[0;34m)\u001b[0m\u001b[0;34m\u001b[0m\u001b[0;34m\u001b[0m\u001b[0m\n\u001b[0m",
      "\u001b[0;32m~/opt/anaconda3/lib/python3.8/site-packages/statsmodels/base/model.py\u001b[0m in \u001b[0;36mfrom_formula\u001b[0;34m(cls, formula, data, subset, drop_cols, *args, **kwargs)\u001b[0m\n\u001b[1;32m    193\u001b[0m                        \u001b[0;34m'formula'\u001b[0m\u001b[0;34m:\u001b[0m \u001b[0mformula\u001b[0m\u001b[0;34m,\u001b[0m  \u001b[0;31m# attach formula for unpckling\u001b[0m\u001b[0;34m\u001b[0m\u001b[0;34m\u001b[0m\u001b[0m\n\u001b[1;32m    194\u001b[0m                        'design_info': design_info})\n\u001b[0;32m--> 195\u001b[0;31m         \u001b[0mmod\u001b[0m \u001b[0;34m=\u001b[0m \u001b[0mcls\u001b[0m\u001b[0;34m(\u001b[0m\u001b[0mendog\u001b[0m\u001b[0;34m,\u001b[0m \u001b[0mexog\u001b[0m\u001b[0;34m,\u001b[0m \u001b[0;34m*\u001b[0m\u001b[0margs\u001b[0m\u001b[0;34m,\u001b[0m \u001b[0;34m**\u001b[0m\u001b[0mkwargs\u001b[0m\u001b[0;34m)\u001b[0m\u001b[0;34m\u001b[0m\u001b[0;34m\u001b[0m\u001b[0m\n\u001b[0m\u001b[1;32m    196\u001b[0m         \u001b[0mmod\u001b[0m\u001b[0;34m.\u001b[0m\u001b[0mformula\u001b[0m \u001b[0;34m=\u001b[0m \u001b[0mformula\u001b[0m\u001b[0;34m\u001b[0m\u001b[0;34m\u001b[0m\u001b[0m\n\u001b[1;32m    197\u001b[0m \u001b[0;34m\u001b[0m\u001b[0m\n",
      "\u001b[0;32m~/opt/anaconda3/lib/python3.8/site-packages/statsmodels/discrete/discrete_model.py\u001b[0m in \u001b[0;36m__init__\u001b[0;34m(self, endog, exog, check_rank, **kwargs)\u001b[0m\n\u001b[1;32m    459\u001b[0m         \u001b[0;32mif\u001b[0m \u001b[0;32mnot\u001b[0m \u001b[0missubclass\u001b[0m\u001b[0;34m(\u001b[0m\u001b[0mself\u001b[0m\u001b[0;34m.\u001b[0m\u001b[0m__class__\u001b[0m\u001b[0;34m,\u001b[0m \u001b[0mMultinomialModel\u001b[0m\u001b[0;34m)\u001b[0m\u001b[0;34m:\u001b[0m\u001b[0;34m\u001b[0m\u001b[0;34m\u001b[0m\u001b[0m\n\u001b[1;32m    460\u001b[0m             \u001b[0;32mif\u001b[0m \u001b[0;32mnot\u001b[0m \u001b[0mnp\u001b[0m\u001b[0;34m.\u001b[0m\u001b[0mall\u001b[0m\u001b[0;34m(\u001b[0m\u001b[0;34m(\u001b[0m\u001b[0mself\u001b[0m\u001b[0;34m.\u001b[0m\u001b[0mendog\u001b[0m \u001b[0;34m>=\u001b[0m \u001b[0;36m0\u001b[0m\u001b[0;34m)\u001b[0m \u001b[0;34m&\u001b[0m \u001b[0;34m(\u001b[0m\u001b[0mself\u001b[0m\u001b[0;34m.\u001b[0m\u001b[0mendog\u001b[0m \u001b[0;34m<=\u001b[0m \u001b[0;36m1\u001b[0m\u001b[0;34m)\u001b[0m\u001b[0;34m)\u001b[0m\u001b[0;34m:\u001b[0m\u001b[0;34m\u001b[0m\u001b[0;34m\u001b[0m\u001b[0m\n\u001b[0;32m--> 461\u001b[0;31m                 \u001b[0;32mraise\u001b[0m \u001b[0mValueError\u001b[0m\u001b[0;34m(\u001b[0m\u001b[0;34m\"endog must be in the unit interval.\"\u001b[0m\u001b[0;34m)\u001b[0m\u001b[0;34m\u001b[0m\u001b[0;34m\u001b[0m\u001b[0m\n\u001b[0m\u001b[1;32m    462\u001b[0m \u001b[0;34m\u001b[0m\u001b[0m\n\u001b[1;32m    463\u001b[0m             if (not self._continuous_ok and\n",
      "\u001b[0;31mValueError\u001b[0m: endog must be in the unit interval."
     ]
    }
   ],
   "source": [
    "print(smf.logit('Q(\"count\")~Q(\"min\")', data=df).fit().summary())"
   ]
  }
 ],
 "metadata": {
  "kernelspec": {
   "display_name": "Python 3",
   "language": "python",
   "name": "python3"
  },
  "language_info": {
   "codemirror_mode": {
    "name": "ipython",
    "version": 3
   },
   "file_extension": ".py",
   "mimetype": "text/x-python",
   "name": "python",
   "nbconvert_exporter": "python",
   "pygments_lexer": "ipython3",
   "version": "3.8.8"
  }
 },
 "nbformat": 4,
 "nbformat_minor": 5
}

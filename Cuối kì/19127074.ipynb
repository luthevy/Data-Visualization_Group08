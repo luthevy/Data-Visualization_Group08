{
 "cells": [
  {
   "cell_type": "code",
   "execution_count": 1,
   "id": "2bb1efb3",
   "metadata": {},
   "outputs": [],
   "source": [
    "import pandas as pd\n",
    "import numpy as np\n",
    "import matplotlib.pyplot as plt\n",
    "import seaborn as sns"
   ]
  },
  {
   "cell_type": "code",
   "execution_count": 2,
   "id": "099b4146",
   "metadata": {
    "scrolled": true
   },
   "outputs": [
    {
     "data": {
      "text/html": [
       "<div>\n",
       "<style scoped>\n",
       "    .dataframe tbody tr th:only-of-type {\n",
       "        vertical-align: middle;\n",
       "    }\n",
       "\n",
       "    .dataframe tbody tr th {\n",
       "        vertical-align: top;\n",
       "    }\n",
       "\n",
       "    .dataframe thead th {\n",
       "        text-align: right;\n",
       "    }\n",
       "</style>\n",
       "<table border=\"1\" class=\"dataframe\">\n",
       "  <thead>\n",
       "    <tr style=\"text-align: right;\">\n",
       "      <th></th>\n",
       "      <th>Unnamed: 0</th>\n",
       "      <th>Date</th>\n",
       "      <th>Country</th>\n",
       "      <th>City</th>\n",
       "      <th>Specie</th>\n",
       "      <th>count</th>\n",
       "      <th>min</th>\n",
       "      <th>max</th>\n",
       "      <th>median</th>\n",
       "      <th>variance</th>\n",
       "    </tr>\n",
       "  </thead>\n",
       "  <tbody>\n",
       "    <tr>\n",
       "      <th>0</th>\n",
       "      <td>0</td>\n",
       "      <td>17/07/2020</td>\n",
       "      <td>VN</td>\n",
       "      <td>Ho Chi Minh City</td>\n",
       "      <td>temperature</td>\n",
       "      <td>24</td>\n",
       "      <td>26.0</td>\n",
       "      <td>34.0</td>\n",
       "      <td>29.5</td>\n",
       "      <td>59.13</td>\n",
       "    </tr>\n",
       "    <tr>\n",
       "      <th>1</th>\n",
       "      <td>1</td>\n",
       "      <td>21/10/2020</td>\n",
       "      <td>VN</td>\n",
       "      <td>Ho Chi Minh City</td>\n",
       "      <td>temperature</td>\n",
       "      <td>24</td>\n",
       "      <td>26.0</td>\n",
       "      <td>31.0</td>\n",
       "      <td>27.0</td>\n",
       "      <td>26.23</td>\n",
       "    </tr>\n",
       "    <tr>\n",
       "      <th>2</th>\n",
       "      <td>2</td>\n",
       "      <td>07/11/2020</td>\n",
       "      <td>VN</td>\n",
       "      <td>Ho Chi Minh City</td>\n",
       "      <td>temperature</td>\n",
       "      <td>24</td>\n",
       "      <td>25.0</td>\n",
       "      <td>32.5</td>\n",
       "      <td>28.0</td>\n",
       "      <td>69.20</td>\n",
       "    </tr>\n",
       "    <tr>\n",
       "      <th>3</th>\n",
       "      <td>3</td>\n",
       "      <td>22/11/2020</td>\n",
       "      <td>VN</td>\n",
       "      <td>Ho Chi Minh City</td>\n",
       "      <td>temperature</td>\n",
       "      <td>24</td>\n",
       "      <td>24.0</td>\n",
       "      <td>33.5</td>\n",
       "      <td>26.0</td>\n",
       "      <td>102.39</td>\n",
       "    </tr>\n",
       "    <tr>\n",
       "      <th>4</th>\n",
       "      <td>4</td>\n",
       "      <td>10/01/2020</td>\n",
       "      <td>VN</td>\n",
       "      <td>Ho Chi Minh City</td>\n",
       "      <td>temperature</td>\n",
       "      <td>24</td>\n",
       "      <td>23.5</td>\n",
       "      <td>34.0</td>\n",
       "      <td>28.5</td>\n",
       "      <td>125.65</td>\n",
       "    </tr>\n",
       "  </tbody>\n",
       "</table>\n",
       "</div>"
      ],
      "text/plain": [
       "   Unnamed: 0        Date Country              City       Specie  count   min  \\\n",
       "0           0  17/07/2020      VN  Ho Chi Minh City  temperature     24  26.0   \n",
       "1           1  21/10/2020      VN  Ho Chi Minh City  temperature     24  26.0   \n",
       "2           2  07/11/2020      VN  Ho Chi Minh City  temperature     24  25.0   \n",
       "3           3  22/11/2020      VN  Ho Chi Minh City  temperature     24  24.0   \n",
       "4           4  10/01/2020      VN  Ho Chi Minh City  temperature     24  23.5   \n",
       "\n",
       "    max  median  variance  \n",
       "0  34.0    29.5     59.13  \n",
       "1  31.0    27.0     26.23  \n",
       "2  32.5    28.0     69.20  \n",
       "3  33.5    26.0    102.39  \n",
       "4  34.0    28.5    125.65  "
      ]
     },
     "execution_count": 2,
     "metadata": {},
     "output_type": "execute_result"
    }
   ],
   "source": [
    "df = pd.read_csv('data.csv',',')\n",
    "df.head()"
   ]
  },
  {
   "cell_type": "code",
   "execution_count": 3,
   "id": "248dad86",
   "metadata": {},
   "outputs": [
    {
     "data": {
      "text/plain": [
       "pm25             1779\n",
       "wind speed       1749\n",
       "humidity         1748\n",
       "temperature      1748\n",
       "pressure         1748\n",
       "dew              1747\n",
       "pm10             1401\n",
       "no2              1153\n",
       "co               1025\n",
       "o3                869\n",
       "so2               711\n",
       "precipitation     264\n",
       "aqi               219\n",
       "wind gust          47\n",
       "Name: Specie, dtype: int64"
      ]
     },
     "execution_count": 3,
     "metadata": {},
     "output_type": "execute_result"
    }
   ],
   "source": [
    "df['Specie'].value_counts()"
   ]
  },
  {
   "cell_type": "code",
   "execution_count": 4,
   "id": "77d74d0d",
   "metadata": {},
   "outputs": [
    {
     "data": {
      "image/png": "[encoded data removed]",
      "text/plain": [
       "<Figure size 648x504 with 2 Axes>"
      ]
     },
     "metadata": {
      "needs_background": "light"
     },
     "output_type": "display_data"
    }
   ],
   "source": [
    "df_hcm = df[df['City'] == 'Ha Noi']\n",
    "df_hcm = df_hcm[['Date','Specie','median']]\n",
    "df_pivot = df_hcm.pivot(columns='Specie', index='Date', values='median')\n",
    "plt.figure(figsize=(9,7))\n",
    "sns.heatmap(df_pivot.corr())\n",
    "plt.show()"
   ]
  }
 ],
 "metadata": {
  "kernelspec": {
   "display_name": "Python 3",
   "language": "python",
   "name": "python3"
  },
  "language_info": {
   "codemirror_mode": {
    "name": "ipython",
    "version": 3
   },
   "file_extension": ".py",
   "mimetype": "text/x-python",
   "name": "python",
   "nbconvert_exporter": "python",
   "pygments_lexer": "ipython3",
   "version": "3.8.8"
  }
 },
 "nbformat": 4,
 "nbformat_minor": 5
}

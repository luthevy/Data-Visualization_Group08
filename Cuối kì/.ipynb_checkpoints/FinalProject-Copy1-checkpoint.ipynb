{
 "cells": [
  {
   "cell_type": "code",
   "execution_count": 17,
   "id": "2bb1efb3",
   "metadata": {},
   "outputs": [],
   "source": [
    "import pandas as pd\n",
    "import numpy as np\n",
    "import seaborn as sns"
   ]
  },
  {
   "cell_type": "code",
   "execution_count": 12,
   "id": "bb8422c2",
   "metadata": {
    "scrolled": false
   },
   "outputs": [
    {
     "data": {
      "text/html": [
       "<div>\n",
       "<style scoped>\n",
       "    .dataframe tbody tr th:only-of-type {\n",
       "        vertical-align: middle;\n",
       "    }\n",
       "\n",
       "    .dataframe tbody tr th {\n",
       "        vertical-align: top;\n",
       "    }\n",
       "\n",
       "    .dataframe thead th {\n",
       "        text-align: right;\n",
       "    }\n",
       "</style>\n",
       "<table border=\"1\" class=\"dataframe\">\n",
       "  <thead>\n",
       "    <tr style=\"text-align: right;\">\n",
       "      <th></th>\n",
       "      <th>Date</th>\n",
       "      <th>Country</th>\n",
       "      <th>City</th>\n",
       "      <th>Specie</th>\n",
       "      <th>count</th>\n",
       "      <th>min</th>\n",
       "      <th>max</th>\n",
       "      <th>median</th>\n",
       "      <th>variance</th>\n",
       "    </tr>\n",
       "  </thead>\n",
       "  <tbody>\n",
       "    <tr>\n",
       "      <th>0</th>\n",
       "      <td>17/07/2020</td>\n",
       "      <td>VN</td>\n",
       "      <td>Ho Chi Minh City</td>\n",
       "      <td>temperature</td>\n",
       "      <td>24</td>\n",
       "      <td>26.0</td>\n",
       "      <td>34.0</td>\n",
       "      <td>29.5</td>\n",
       "      <td>59.13</td>\n",
       "    </tr>\n",
       "    <tr>\n",
       "      <th>1</th>\n",
       "      <td>21/10/2020</td>\n",
       "      <td>VN</td>\n",
       "      <td>Ho Chi Minh City</td>\n",
       "      <td>temperature</td>\n",
       "      <td>24</td>\n",
       "      <td>26.0</td>\n",
       "      <td>31.0</td>\n",
       "      <td>27.0</td>\n",
       "      <td>26.23</td>\n",
       "    </tr>\n",
       "    <tr>\n",
       "      <th>2</th>\n",
       "      <td>07/11/2020</td>\n",
       "      <td>VN</td>\n",
       "      <td>Ho Chi Minh City</td>\n",
       "      <td>temperature</td>\n",
       "      <td>24</td>\n",
       "      <td>25.0</td>\n",
       "      <td>32.5</td>\n",
       "      <td>28.0</td>\n",
       "      <td>69.20</td>\n",
       "    </tr>\n",
       "    <tr>\n",
       "      <th>3</th>\n",
       "      <td>22/11/2020</td>\n",
       "      <td>VN</td>\n",
       "      <td>Ho Chi Minh City</td>\n",
       "      <td>temperature</td>\n",
       "      <td>24</td>\n",
       "      <td>24.0</td>\n",
       "      <td>33.5</td>\n",
       "      <td>26.0</td>\n",
       "      <td>102.39</td>\n",
       "    </tr>\n",
       "    <tr>\n",
       "      <th>4</th>\n",
       "      <td>10/01/2020</td>\n",
       "      <td>VN</td>\n",
       "      <td>Ho Chi Minh City</td>\n",
       "      <td>temperature</td>\n",
       "      <td>24</td>\n",
       "      <td>23.5</td>\n",
       "      <td>34.0</td>\n",
       "      <td>28.5</td>\n",
       "      <td>125.65</td>\n",
       "    </tr>\n",
       "    <tr>\n",
       "      <th>...</th>\n",
       "      <td>...</td>\n",
       "      <td>...</td>\n",
       "      <td>...</td>\n",
       "      <td>...</td>\n",
       "      <td>...</td>\n",
       "      <td>...</td>\n",
       "      <td>...</td>\n",
       "      <td>...</td>\n",
       "      <td>...</td>\n",
       "    </tr>\n",
       "    <tr>\n",
       "      <th>16222</th>\n",
       "      <td>26/02/2020</td>\n",
       "      <td>VN</td>\n",
       "      <td>Ha Long</td>\n",
       "      <td>co</td>\n",
       "      <td>28</td>\n",
       "      <td>1.0</td>\n",
       "      <td>9.0</td>\n",
       "      <td>4.0</td>\n",
       "      <td>88.19</td>\n",
       "    </tr>\n",
       "    <tr>\n",
       "      <th>16223</th>\n",
       "      <td>27/02/2020</td>\n",
       "      <td>VN</td>\n",
       "      <td>Ha Long</td>\n",
       "      <td>co</td>\n",
       "      <td>34</td>\n",
       "      <td>2.0</td>\n",
       "      <td>9.0</td>\n",
       "      <td>8.0</td>\n",
       "      <td>48.52</td>\n",
       "    </tr>\n",
       "    <tr>\n",
       "      <th>16224</th>\n",
       "      <td>29/02/2020</td>\n",
       "      <td>VN</td>\n",
       "      <td>Ha Long</td>\n",
       "      <td>co</td>\n",
       "      <td>22</td>\n",
       "      <td>8.0</td>\n",
       "      <td>9.0</td>\n",
       "      <td>8.0</td>\n",
       "      <td>2.27</td>\n",
       "    </tr>\n",
       "    <tr>\n",
       "      <th>16225</th>\n",
       "      <td>24/06/2020</td>\n",
       "      <td>VN</td>\n",
       "      <td>Ha Long</td>\n",
       "      <td>co</td>\n",
       "      <td>48</td>\n",
       "      <td>4.0</td>\n",
       "      <td>8.0</td>\n",
       "      <td>5.0</td>\n",
       "      <td>13.36</td>\n",
       "    </tr>\n",
       "    <tr>\n",
       "      <th>16226</th>\n",
       "      <td>25/06/2020</td>\n",
       "      <td>VN</td>\n",
       "      <td>Ha Long</td>\n",
       "      <td>co</td>\n",
       "      <td>48</td>\n",
       "      <td>4.0</td>\n",
       "      <td>11.0</td>\n",
       "      <td>7.0</td>\n",
       "      <td>29.08</td>\n",
       "    </tr>\n",
       "  </tbody>\n",
       "</table>\n",
       "<p>16227 rows × 9 columns</p>\n",
       "</div>"
      ],
      "text/plain": [
       "             Date Country              City       Specie  count   min   max  \\\n",
       "0      17/07/2020      VN  Ho Chi Minh City  temperature     24  26.0  34.0   \n",
       "1      21/10/2020      VN  Ho Chi Minh City  temperature     24  26.0  31.0   \n",
       "2      07/11/2020      VN  Ho Chi Minh City  temperature     24  25.0  32.5   \n",
       "3      22/11/2020      VN  Ho Chi Minh City  temperature     24  24.0  33.5   \n",
       "4      10/01/2020      VN  Ho Chi Minh City  temperature     24  23.5  34.0   \n",
       "...           ...     ...               ...          ...    ...   ...   ...   \n",
       "16222  26/02/2020      VN           Ha Long           co     28   1.0   9.0   \n",
       "16223  27/02/2020      VN           Ha Long           co     34   2.0   9.0   \n",
       "16224  29/02/2020      VN           Ha Long           co     22   8.0   9.0   \n",
       "16225  24/06/2020      VN           Ha Long           co     48   4.0   8.0   \n",
       "16226  25/06/2020      VN           Ha Long           co     48   4.0  11.0   \n",
       "\n",
       "       median  variance  \n",
       "0        29.5     59.13  \n",
       "1        27.0     26.23  \n",
       "2        28.0     69.20  \n",
       "3        26.0    102.39  \n",
       "4        28.5    125.65  \n",
       "...       ...       ...  \n",
       "16222     4.0     88.19  \n",
       "16223     8.0     48.52  \n",
       "16224     8.0      2.27  \n",
       "16225     5.0     13.36  \n",
       "16226     7.0     29.08  \n",
       "\n",
       "[16227 rows x 9 columns]"
      ]
     },
     "execution_count": 12,
     "metadata": {},
     "output_type": "execute_result"
    }
   ],
   "source": [
    "df = pd.read_csv('aqi_airqualitydata_2020_en.csv',',')\n",
    "df"
   ]
  },
  {
   "cell_type": "code",
   "execution_count": 13,
   "id": "3a498356",
   "metadata": {},
   "outputs": [],
   "source": [
    "df.drop('Country',axis=1,inplace=True)"
   ]
  },
  {
   "cell_type": "code",
   "execution_count": 14,
   "id": "751ef7ec",
   "metadata": {},
   "outputs": [],
   "source": [
    "df.loc[df['Specie'] == 'wind-speed', 'Specie'] = 'wind speed'\n",
    "df.loc[df['Specie'] == 'wind-gust', 'Specie'] = 'wind gust'"
   ]
  },
  {
   "cell_type": "code",
   "execution_count": 18,
   "id": "6adb666b",
   "metadata": {},
   "outputs": [
    {
     "name": "stderr",
     "output_type": "stream",
     "text": [
      "/Users/lanmac/opt/anaconda3/lib/python3.8/site-packages/seaborn/_decorators.py:36: FutureWarning: Pass the following variable as a keyword arg: x. From version 0.12, the only valid positional argument will be `data`, and passing other arguments without an explicit keyword will result in an error or misinterpretation.\n",
      "  warnings.warn(\n"
     ]
    },
    {
     "data": {
      "text/plain": [
       "<AxesSubplot:xlabel='City', ylabel='count'>"
      ]
     },
     "execution_count": 18,
     "metadata": {},
     "output_type": "execute_result"
    },
    {
     "data": {
      "image/png": "[encoded data removed]",
      "text/plain": [
       "<Figure size 432x288 with 1 Axes>"
      ]
     },
     "metadata": {
      "needs_background": "light"
     },
     "output_type": "display_data"
    }
   ],
   "source": [
    "sns.countplot(df['City'])"
   ]
  },
  {
   "cell_type": "code",
   "execution_count": 19,
   "id": "720655be",
   "metadata": {},
   "outputs": [
    {
     "name": "stderr",
     "output_type": "stream",
     "text": [
      "/Users/lanmac/opt/anaconda3/lib/python3.8/site-packages/seaborn/_decorators.py:36: FutureWarning: Pass the following variable as a keyword arg: x. From version 0.12, the only valid positional argument will be `data`, and passing other arguments without an explicit keyword will result in an error or misinterpretation.\n",
      "  warnings.warn(\n"
     ]
    },
    {
     "data": {
      "text/plain": [
       "<AxesSubplot:xlabel='Specie', ylabel='count'>"
      ]
     },
     "execution_count": 19,
     "metadata": {},
     "output_type": "execute_result"
    },
    {
     "data": {
      "image/png": "[encoded data removed]",
      "text/plain": [
       "<Figure size 432x288 with 1 Axes>"
      ]
     },
     "metadata": {
      "needs_background": "light"
     },
     "output_type": "display_data"
    }
   ],
   "source": [
    "sns.countplot(df['Specie'])"
   ]
  },
  {
   "cell_type": "markdown",
   "id": "d77f6028",
   "metadata": {},
   "source": [
    "# sns.kdeplot(df[(df['City']=='Ho Chi Minh City') & (df['Specie']=='temperature')]['min'])"
   ]
  },
  {
   "cell_type": "code",
   "execution_count": 27,
   "id": "703cec86",
   "metadata": {},
   "outputs": [
    {
     "data": {
      "text/plain": [
       "<AxesSubplot:xlabel='max', ylabel='Count'>"
      ]
     },
     "execution_count": 27,
     "metadata": {},
     "output_type": "execute_result"
    },
    {
     "data": {
      "image/png": "[encoded data removed]",
      "text/plain": [
       "<Figure size 432x288 with 1 Axes>"
      ]
     },
     "metadata": {
      "needs_background": "light"
     },
     "output_type": "display_data"
    }
   ],
   "source": [
    "sns.histplot(df['max'],kde=True,bins=20)"
   ]
  },
  {
   "cell_type": "code",
   "execution_count": 28,
   "id": "b6e2938a",
   "metadata": {},
   "outputs": [
    {
     "data": {
      "text/plain": [
       "<AxesSubplot:xlabel='median', ylabel='Count'>"
      ]
     },
     "execution_count": 28,
     "metadata": {},
     "output_type": "execute_result"
    },
    {
     "data": {
      "image/png": "[encoded data removed]",
      "text/plain": [
       "<Figure size 432x288 with 1 Axes>"
      ]
     },
     "metadata": {
      "needs_background": "light"
     },
     "output_type": "display_data"
    }
   ],
   "source": [
    "sns.histplot(df['median'],kde=True,bins=20)"
   ]
  },
  {
   "cell_type": "code",
   "execution_count": 29,
   "id": "23c3ca46",
   "metadata": {},
   "outputs": [
    {
     "data": {
      "text/plain": [
       "<AxesSubplot:xlabel='variance', ylabel='Count'>"
      ]
     },
     "execution_count": 29,
     "metadata": {},
     "output_type": "execute_result"
    },
    {
     "data": {
      "image/png": "[encoded data removed]",
      "text/plain": [
       "<Figure size 432x288 with 1 Axes>"
      ]
     },
     "metadata": {
      "needs_background": "light"
     },
     "output_type": "display_data"
    }
   ],
   "source": [
    "sns.histplot(df['variance'],kde=True,bins=20)"
   ]
  }
 ],
 "metadata": {
  "kernelspec": {
   "display_name": "Python 3",
   "language": "python",
   "name": "python3"
  },
  "language_info": {
   "codemirror_mode": {
    "name": "ipython",
    "version": 3
   },
   "file_extension": ".py",
   "mimetype": "text/x-python",
   "name": "python",
   "nbconvert_exporter": "python",
   "pygments_lexer": "ipython3",
   "version": "3.8.8"
  }
 },
 "nbformat": 4,
 "nbformat_minor": 5
}

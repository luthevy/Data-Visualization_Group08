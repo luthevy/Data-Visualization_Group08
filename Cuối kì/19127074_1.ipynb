{
 "cells": [
  {
   "cell_type": "code",
   "execution_count": null,
   "id": "2bb1efb3",
   "metadata": {},
   "outputs": [],
   "source": [
    "import pandas as pd\n",
    "import numpy as np"
   ]
  },
  {
   "cell_type": "code",
   "execution_count": null,
   "id": "bb8422c2",
   "metadata": {
    "scrolled": true
   },
   "outputs": [],
   "source": [
    "df = pd.read_csv('aqi_airqualitydata_2020_en.csv',',')\n",
    "df"
   ]
  },
  {
   "cell_type": "code",
   "execution_count": null,
   "id": "751ef7ec",
   "metadata": {},
   "outputs": [],
   "source": [
    "df_copy = df\n",
    "df_copy.loc[df['Specie'] == 'wind-speed', 'Specie'] = 'wind speed'"
   ]
  },
  {
   "cell_type": "code",
   "execution_count": null,
   "id": "ba74bf56",
   "metadata": {},
   "outputs": [],
   "source": [
    "df_copy.loc[df['Specie'] == 'wind-gust', 'Specie'] = 'wind gust'"
   ]
  },
  {
   "cell_type": "code",
   "execution_count": null,
   "id": "24d38d90",
   "metadata": {
    "scrolled": true
   },
   "outputs": [],
   "source": [
    "df_copy = df_copy.drop_duplicates()"
   ]
  },
  {
   "cell_type": "code",
   "execution_count": null,
   "id": "5015ec3f",
   "metadata": {},
   "outputs": [],
   "source": [
    "df_copy.to_csv('data.csv')"
   ]
  }
 ],
 "metadata": {
  "kernelspec": {
   "display_name": "Python 3 (ipykernel)",
   "language": "python",
   "name": "python3"
  },
  "language_info": {
   "codemirror_mode": {
    "name": "ipython",
    "version": 3
   },
   "file_extension": ".py",
   "mimetype": "text/x-python",
   "name": "python",
   "nbconvert_exporter": "python",
   "pygments_lexer": "ipython3",
   "version": "3.8.8"
  }
 },
 "nbformat": 4,
 "nbformat_minor": 5
}

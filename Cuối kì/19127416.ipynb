{
 "cells": [
  {
   "cell_type": "markdown",
   "id": "392d7c08",
   "metadata": {},
   "source": [
    "## Thu thập dữ liệu và Giới thiệu về dữ liệu"
   ]
  },
  {
   "cell_type": "markdown",
   "id": "70a0470e",
   "metadata": {},
   "source": [
    "Bộ dữ liệu nhóm sử dụng là bộ dữ liệu đã được thu thập về AQI (Air Quality Index - Chỉ số chất lượng không khí) ở các nơi khác nhau trong Việt Nam vào năm 2020, dữ liệu có các loại đối tượng được đo lường khác nhau như nhiệt độ, độ ẩm, tốc độ gió,...\n",
    "\n",
    "Bộ dữ liệu được lấy thông qua trang web https://data.vietnam.opendevelopmentmekong.net/en/dataset/timelines-dataset-on-air-quality-in-vietnam/resource/c3712765-0d13-4d83-8695-fe803a6d9933"
   ]
  },
  {
   "cell_type": "markdown",
   "id": "6ad8fd96",
   "metadata": {},
   "source": [
    "----"
   ]
  },
  {
   "cell_type": "markdown",
   "id": "777b0418",
   "metadata": {},
   "source": [
    "## Thư viện"
   ]
  },
  {
   "cell_type": "code",
   "execution_count": 1,
   "id": "c4fa9f0a",
   "metadata": {},
   "outputs": [],
   "source": [
    "import pandas as pd\n",
    "import numpy as np\n",
    "import seaborn as sns\n",
    "import matplotlib.pyplot as plt\n",
    "\n",
    "import statsmodels.formula.api as smf\n",
    "\n",
    "from sklearn.preprocessing import LabelEncoder\n",
    "from sklearn.model_selection import train_test_split\n",
    "from sklearn.ensemble import RandomForestRegressor"
   ]
  },
  {
   "cell_type": "markdown",
   "id": "bbff06a7",
   "metadata": {},
   "source": [
    "----"
   ]
  },
  {
   "cell_type": "markdown",
   "id": "6c4165b1",
   "metadata": {},
   "source": [
    "## Khám phá dữ liệu"
   ]
  },
  {
   "cell_type": "markdown",
   "id": "2e5277c8",
   "metadata": {},
   "source": [
    "### Đọc dữ liệu"
   ]
  },
  {
   "cell_type": "code",
   "execution_count": 2,
   "id": "bb8422c2",
   "metadata": {
    "scrolled": true
   },
   "outputs": [
    {
     "data": {
      "text/html": [
       "<div>\n",
       "<style scoped>\n",
       "    .dataframe tbody tr th:only-of-type {\n",
       "        vertical-align: middle;\n",
       "    }\n",
       "\n",
       "    .dataframe tbody tr th {\n",
       "        vertical-align: top;\n",
       "    }\n",
       "\n",
       "    .dataframe thead th {\n",
       "        text-align: right;\n",
       "    }\n",
       "</style>\n",
       "<table border=\"1\" class=\"dataframe\">\n",
       "  <thead>\n",
       "    <tr style=\"text-align: right;\">\n",
       "      <th></th>\n",
       "      <th>Date</th>\n",
       "      <th>Country</th>\n",
       "      <th>City</th>\n",
       "      <th>Specie</th>\n",
       "      <th>count</th>\n",
       "      <th>min</th>\n",
       "      <th>max</th>\n",
       "      <th>median</th>\n",
       "      <th>variance</th>\n",
       "    </tr>\n",
       "  </thead>\n",
       "  <tbody>\n",
       "    <tr>\n",
       "      <th>0</th>\n",
       "      <td>17/07/2020</td>\n",
       "      <td>VN</td>\n",
       "      <td>Ho Chi Minh City</td>\n",
       "      <td>temperature</td>\n",
       "      <td>24</td>\n",
       "      <td>26.0</td>\n",
       "      <td>34.0</td>\n",
       "      <td>29.5</td>\n",
       "      <td>59.13</td>\n",
       "    </tr>\n",
       "    <tr>\n",
       "      <th>1</th>\n",
       "      <td>21/10/2020</td>\n",
       "      <td>VN</td>\n",
       "      <td>Ho Chi Minh City</td>\n",
       "      <td>temperature</td>\n",
       "      <td>24</td>\n",
       "      <td>26.0</td>\n",
       "      <td>31.0</td>\n",
       "      <td>27.0</td>\n",
       "      <td>26.23</td>\n",
       "    </tr>\n",
       "    <tr>\n",
       "      <th>2</th>\n",
       "      <td>07/11/2020</td>\n",
       "      <td>VN</td>\n",
       "      <td>Ho Chi Minh City</td>\n",
       "      <td>temperature</td>\n",
       "      <td>24</td>\n",
       "      <td>25.0</td>\n",
       "      <td>32.5</td>\n",
       "      <td>28.0</td>\n",
       "      <td>69.20</td>\n",
       "    </tr>\n",
       "    <tr>\n",
       "      <th>3</th>\n",
       "      <td>22/11/2020</td>\n",
       "      <td>VN</td>\n",
       "      <td>Ho Chi Minh City</td>\n",
       "      <td>temperature</td>\n",
       "      <td>24</td>\n",
       "      <td>24.0</td>\n",
       "      <td>33.5</td>\n",
       "      <td>26.0</td>\n",
       "      <td>102.39</td>\n",
       "    </tr>\n",
       "    <tr>\n",
       "      <th>4</th>\n",
       "      <td>10/01/2020</td>\n",
       "      <td>VN</td>\n",
       "      <td>Ho Chi Minh City</td>\n",
       "      <td>temperature</td>\n",
       "      <td>24</td>\n",
       "      <td>23.5</td>\n",
       "      <td>34.0</td>\n",
       "      <td>28.5</td>\n",
       "      <td>125.65</td>\n",
       "    </tr>\n",
       "    <tr>\n",
       "      <th>5</th>\n",
       "      <td>27/01/2020</td>\n",
       "      <td>VN</td>\n",
       "      <td>Ho Chi Minh City</td>\n",
       "      <td>temperature</td>\n",
       "      <td>24</td>\n",
       "      <td>25.0</td>\n",
       "      <td>32.0</td>\n",
       "      <td>26.0</td>\n",
       "      <td>64.40</td>\n",
       "    </tr>\n",
       "    <tr>\n",
       "      <th>6</th>\n",
       "      <td>19/03/2020</td>\n",
       "      <td>VN</td>\n",
       "      <td>Ho Chi Minh City</td>\n",
       "      <td>temperature</td>\n",
       "      <td>24</td>\n",
       "      <td>27.0</td>\n",
       "      <td>34.5</td>\n",
       "      <td>28.0</td>\n",
       "      <td>83.97</td>\n",
       "    </tr>\n",
       "    <tr>\n",
       "      <th>7</th>\n",
       "      <td>18/05/2020</td>\n",
       "      <td>VN</td>\n",
       "      <td>Ho Chi Minh City</td>\n",
       "      <td>temperature</td>\n",
       "      <td>24</td>\n",
       "      <td>28.5</td>\n",
       "      <td>36.5</td>\n",
       "      <td>31.0</td>\n",
       "      <td>73.87</td>\n",
       "    </tr>\n",
       "    <tr>\n",
       "      <th>8</th>\n",
       "      <td>28/05/2020</td>\n",
       "      <td>VN</td>\n",
       "      <td>Ho Chi Minh City</td>\n",
       "      <td>temperature</td>\n",
       "      <td>24</td>\n",
       "      <td>27.0</td>\n",
       "      <td>34.0</td>\n",
       "      <td>28.0</td>\n",
       "      <td>43.58</td>\n",
       "    </tr>\n",
       "    <tr>\n",
       "      <th>9</th>\n",
       "      <td>27/08/2020</td>\n",
       "      <td>VN</td>\n",
       "      <td>Ho Chi Minh City</td>\n",
       "      <td>temperature</td>\n",
       "      <td>24</td>\n",
       "      <td>27.0</td>\n",
       "      <td>34.0</td>\n",
       "      <td>30.0</td>\n",
       "      <td>58.37</td>\n",
       "    </tr>\n",
       "  </tbody>\n",
       "</table>\n",
       "</div>"
      ],
      "text/plain": [
       "         Date Country              City       Specie  count   min   max  \\\n",
       "0  17/07/2020      VN  Ho Chi Minh City  temperature     24  26.0  34.0   \n",
       "1  21/10/2020      VN  Ho Chi Minh City  temperature     24  26.0  31.0   \n",
       "2  07/11/2020      VN  Ho Chi Minh City  temperature     24  25.0  32.5   \n",
       "3  22/11/2020      VN  Ho Chi Minh City  temperature     24  24.0  33.5   \n",
       "4  10/01/2020      VN  Ho Chi Minh City  temperature     24  23.5  34.0   \n",
       "5  27/01/2020      VN  Ho Chi Minh City  temperature     24  25.0  32.0   \n",
       "6  19/03/2020      VN  Ho Chi Minh City  temperature     24  27.0  34.5   \n",
       "7  18/05/2020      VN  Ho Chi Minh City  temperature     24  28.5  36.5   \n",
       "8  28/05/2020      VN  Ho Chi Minh City  temperature     24  27.0  34.0   \n",
       "9  27/08/2020      VN  Ho Chi Minh City  temperature     24  27.0  34.0   \n",
       "\n",
       "   median  variance  \n",
       "0    29.5     59.13  \n",
       "1    27.0     26.23  \n",
       "2    28.0     69.20  \n",
       "3    26.0    102.39  \n",
       "4    28.5    125.65  \n",
       "5    26.0     64.40  \n",
       "6    28.0     83.97  \n",
       "7    31.0     73.87  \n",
       "8    28.0     43.58  \n",
       "9    30.0     58.37  "
      ]
     },
     "execution_count": 2,
     "metadata": {},
     "output_type": "execute_result"
    }
   ],
   "source": [
    "df = pd.read_csv('aqi_airqualitydata_2020_en.csv',',')\n",
    "df.head(10)"
   ]
  },
  {
   "cell_type": "markdown",
   "id": "969ec2f9",
   "metadata": {},
   "source": [
    "----"
   ]
  },
  {
   "cell_type": "markdown",
   "id": "c2ea3e1f",
   "metadata": {},
   "source": [
    "### Thông tin cơ bản"
   ]
  },
  {
   "cell_type": "markdown",
   "id": "e96343f7",
   "metadata": {},
   "source": [
    "**Số dòng và cột**"
   ]
  },
  {
   "cell_type": "code",
   "execution_count": 3,
   "id": "c6111278",
   "metadata": {
    "scrolled": true
   },
   "outputs": [
    {
     "data": {
      "text/plain": [
       "(16227, 9)"
      ]
     },
     "execution_count": 3,
     "metadata": {},
     "output_type": "execute_result"
    }
   ],
   "source": [
    "df.shape"
   ]
  },
  {
   "cell_type": "markdown",
   "id": "be63d3cd",
   "metadata": {},
   "source": [
    "**Ý nghĩa của từng cột**"
   ]
  },
  {
   "cell_type": "code",
   "execution_count": 4,
   "id": "62cd9ec2",
   "metadata": {},
   "outputs": [
    {
     "data": {
      "text/plain": [
       "Index(['Date', 'Country', 'City', 'Specie', 'count', 'min', 'max', 'median',\n",
       "       'variance'],\n",
       "      dtype='object')"
      ]
     },
     "execution_count": 4,
     "metadata": {},
     "output_type": "execute_result"
    }
   ],
   "source": [
    "df.columns"
   ]
  },
  {
   "cell_type": "markdown",
   "id": "a97b15a7",
   "metadata": {},
   "source": [
    "- **Date**: ngày đo lường\n",
    "- **Country**: quốc gia\n",
    "- **City**: thành phố\n",
    "- **Specie**: đối tượng được đo lường\n",
    "- **count**: số lần đo lường trong 1 ngày\n",
    "- **min**: giá trị thấp nhất của đối tượng đo lường trong 1 ngày\n",
    "- **max**: giá trị cao nhất của đối tượng đo lường trong 1 ngày\n",
    "- **median**: giá trị trung vị của đối tượng đo lường trong 1 ngày\n",
    "- **variance**: giá trị phương sai của đối tượng đo lường trong 1 ngày"
   ]
  },
  {
   "cell_type": "markdown",
   "id": "5651fa63",
   "metadata": {},
   "source": [
    "**Kiểu dữ liệu của từng cột**"
   ]
  },
  {
   "cell_type": "code",
   "execution_count": 5,
   "id": "fea6f78b",
   "metadata": {
    "scrolled": true
   },
   "outputs": [
    {
     "data": {
      "text/plain": [
       "Date         object\n",
       "Country      object\n",
       "City         object\n",
       "Specie       object\n",
       "count         int64\n",
       "min         float64\n",
       "max         float64\n",
       "median      float64\n",
       "variance    float64\n",
       "dtype: object"
      ]
     },
     "execution_count": 5,
     "metadata": {},
     "output_type": "execute_result"
    }
   ],
   "source": [
    "df.dtypes"
   ]
  },
  {
   "cell_type": "markdown",
   "id": "f3cb184e",
   "metadata": {},
   "source": [
    "**Cột bất thường**"
   ]
  },
  {
   "cell_type": "code",
   "execution_count": 6,
   "id": "9b398066",
   "metadata": {},
   "outputs": [
    {
     "name": "stdout",
     "output_type": "stream",
     "text": [
      "<class 'pandas.core.frame.DataFrame'>\n",
      "RangeIndex: 16227 entries, 0 to 16226\n",
      "Data columns (total 9 columns):\n",
      " #   Column    Non-Null Count  Dtype  \n",
      "---  ------    --------------  -----  \n",
      " 0   Date      16227 non-null  object \n",
      " 1   Country   16227 non-null  object \n",
      " 2   City      16227 non-null  object \n",
      " 3   Specie    16227 non-null  object \n",
      " 4   count     16227 non-null  int64  \n",
      " 5   min       16227 non-null  float64\n",
      " 6   max       16227 non-null  float64\n",
      " 7   median    16227 non-null  float64\n",
      " 8   variance  16227 non-null  float64\n",
      "dtypes: float64(4), int64(1), object(4)\n",
      "memory usage: 1.1+ MB\n"
     ]
    }
   ],
   "source": [
    "df.info()"
   ]
  },
  {
   "cell_type": "markdown",
   "id": "6cea1c1c",
   "metadata": {},
   "source": [
    "Có vẻ như không có cột nào bất thường cả vì không có cột nào bị thiếu dữ liệu."
   ]
  },
  {
   "cell_type": "markdown",
   "id": "789c2723",
   "metadata": {},
   "source": [
    "**Dòng bất thường**"
   ]
  },
  {
   "cell_type": "code",
   "execution_count": 7,
   "id": "b99dcca6",
   "metadata": {
    "scrolled": true
   },
   "outputs": [
    {
     "data": {
      "text/plain": [
       "Date        0\n",
       "Country     0\n",
       "City        0\n",
       "Specie      0\n",
       "count       0\n",
       "min         0\n",
       "max         0\n",
       "median      0\n",
       "variance    0\n",
       "dtype: int64"
      ]
     },
     "execution_count": 7,
     "metadata": {},
     "output_type": "execute_result"
    }
   ],
   "source": [
    "df.isnull().sum()"
   ]
  },
  {
   "cell_type": "markdown",
   "id": "c6963462",
   "metadata": {},
   "source": [
    "Không có dòng bị thiếu, bất thường."
   ]
  },
  {
   "cell_type": "markdown",
   "id": "398c323a",
   "metadata": {},
   "source": [
    "**Dòng bị lặp**"
   ]
  },
  {
   "cell_type": "code",
   "execution_count": 8,
   "id": "f5214c35",
   "metadata": {
    "scrolled": true
   },
   "outputs": [
    {
     "data": {
      "text/plain": [
       "0"
      ]
     },
     "execution_count": 8,
     "metadata": {},
     "output_type": "execute_result"
    }
   ],
   "source": [
    "df.duplicated().sum()"
   ]
  },
  {
   "cell_type": "markdown",
   "id": "fa072cc7",
   "metadata": {},
   "source": [
    "----"
   ]
  },
  {
   "cell_type": "markdown",
   "id": "c6ac2856",
   "metadata": {},
   "source": [
    "## Tiền xử lý dữ liệu"
   ]
  },
  {
   "cell_type": "markdown",
   "id": "8a7102fd",
   "metadata": {},
   "source": [
    "**Cột cần loại bỏ**"
   ]
  },
  {
   "cell_type": "markdown",
   "id": "be95c3d5",
   "metadata": {},
   "source": [
    "Vì cột Country chỉ có 1 giá trị duy nhất là VN (dữ liệu này được lấy ở Việt Nam) nên ta sẽ bỏ cột này."
   ]
  },
  {
   "cell_type": "code",
   "execution_count": 9,
   "id": "3e45f2b8",
   "metadata": {},
   "outputs": [
    {
     "data": {
      "text/plain": [
       "VN    16227\n",
       "Name: Country, dtype: int64"
      ]
     },
     "execution_count": 9,
     "metadata": {},
     "output_type": "execute_result"
    }
   ],
   "source": [
    "df['Country'].value_counts()"
   ]
  },
  {
   "cell_type": "code",
   "execution_count": 10,
   "id": "ae8aff5c",
   "metadata": {
    "scrolled": false
   },
   "outputs": [
    {
     "data": {
      "text/html": [
       "<div>\n",
       "<style scoped>\n",
       "    .dataframe tbody tr th:only-of-type {\n",
       "        vertical-align: middle;\n",
       "    }\n",
       "\n",
       "    .dataframe tbody tr th {\n",
       "        vertical-align: top;\n",
       "    }\n",
       "\n",
       "    .dataframe thead th {\n",
       "        text-align: right;\n",
       "    }\n",
       "</style>\n",
       "<table border=\"1\" class=\"dataframe\">\n",
       "  <thead>\n",
       "    <tr style=\"text-align: right;\">\n",
       "      <th></th>\n",
       "      <th>Date</th>\n",
       "      <th>City</th>\n",
       "      <th>Specie</th>\n",
       "      <th>count</th>\n",
       "      <th>min</th>\n",
       "      <th>max</th>\n",
       "      <th>median</th>\n",
       "      <th>variance</th>\n",
       "    </tr>\n",
       "  </thead>\n",
       "  <tbody>\n",
       "    <tr>\n",
       "      <th>0</th>\n",
       "      <td>17/07/2020</td>\n",
       "      <td>Ho Chi Minh City</td>\n",
       "      <td>temperature</td>\n",
       "      <td>24</td>\n",
       "      <td>26.0</td>\n",
       "      <td>34.0</td>\n",
       "      <td>29.5</td>\n",
       "      <td>59.13</td>\n",
       "    </tr>\n",
       "    <tr>\n",
       "      <th>1</th>\n",
       "      <td>21/10/2020</td>\n",
       "      <td>Ho Chi Minh City</td>\n",
       "      <td>temperature</td>\n",
       "      <td>24</td>\n",
       "      <td>26.0</td>\n",
       "      <td>31.0</td>\n",
       "      <td>27.0</td>\n",
       "      <td>26.23</td>\n",
       "    </tr>\n",
       "    <tr>\n",
       "      <th>2</th>\n",
       "      <td>07/11/2020</td>\n",
       "      <td>Ho Chi Minh City</td>\n",
       "      <td>temperature</td>\n",
       "      <td>24</td>\n",
       "      <td>25.0</td>\n",
       "      <td>32.5</td>\n",
       "      <td>28.0</td>\n",
       "      <td>69.20</td>\n",
       "    </tr>\n",
       "    <tr>\n",
       "      <th>3</th>\n",
       "      <td>22/11/2020</td>\n",
       "      <td>Ho Chi Minh City</td>\n",
       "      <td>temperature</td>\n",
       "      <td>24</td>\n",
       "      <td>24.0</td>\n",
       "      <td>33.5</td>\n",
       "      <td>26.0</td>\n",
       "      <td>102.39</td>\n",
       "    </tr>\n",
       "    <tr>\n",
       "      <th>4</th>\n",
       "      <td>10/01/2020</td>\n",
       "      <td>Ho Chi Minh City</td>\n",
       "      <td>temperature</td>\n",
       "      <td>24</td>\n",
       "      <td>23.5</td>\n",
       "      <td>34.0</td>\n",
       "      <td>28.5</td>\n",
       "      <td>125.65</td>\n",
       "    </tr>\n",
       "    <tr>\n",
       "      <th>...</th>\n",
       "      <td>...</td>\n",
       "      <td>...</td>\n",
       "      <td>...</td>\n",
       "      <td>...</td>\n",
       "      <td>...</td>\n",
       "      <td>...</td>\n",
       "      <td>...</td>\n",
       "      <td>...</td>\n",
       "    </tr>\n",
       "    <tr>\n",
       "      <th>16222</th>\n",
       "      <td>26/02/2020</td>\n",
       "      <td>Ha Long</td>\n",
       "      <td>co</td>\n",
       "      <td>28</td>\n",
       "      <td>1.0</td>\n",
       "      <td>9.0</td>\n",
       "      <td>4.0</td>\n",
       "      <td>88.19</td>\n",
       "    </tr>\n",
       "    <tr>\n",
       "      <th>16223</th>\n",
       "      <td>27/02/2020</td>\n",
       "      <td>Ha Long</td>\n",
       "      <td>co</td>\n",
       "      <td>34</td>\n",
       "      <td>2.0</td>\n",
       "      <td>9.0</td>\n",
       "      <td>8.0</td>\n",
       "      <td>48.52</td>\n",
       "    </tr>\n",
       "    <tr>\n",
       "      <th>16224</th>\n",
       "      <td>29/02/2020</td>\n",
       "      <td>Ha Long</td>\n",
       "      <td>co</td>\n",
       "      <td>22</td>\n",
       "      <td>8.0</td>\n",
       "      <td>9.0</td>\n",
       "      <td>8.0</td>\n",
       "      <td>2.27</td>\n",
       "    </tr>\n",
       "    <tr>\n",
       "      <th>16225</th>\n",
       "      <td>24/06/2020</td>\n",
       "      <td>Ha Long</td>\n",
       "      <td>co</td>\n",
       "      <td>48</td>\n",
       "      <td>4.0</td>\n",
       "      <td>8.0</td>\n",
       "      <td>5.0</td>\n",
       "      <td>13.36</td>\n",
       "    </tr>\n",
       "    <tr>\n",
       "      <th>16226</th>\n",
       "      <td>25/06/2020</td>\n",
       "      <td>Ha Long</td>\n",
       "      <td>co</td>\n",
       "      <td>48</td>\n",
       "      <td>4.0</td>\n",
       "      <td>11.0</td>\n",
       "      <td>7.0</td>\n",
       "      <td>29.08</td>\n",
       "    </tr>\n",
       "  </tbody>\n",
       "</table>\n",
       "<p>16227 rows × 8 columns</p>\n",
       "</div>"
      ],
      "text/plain": [
       "             Date              City       Specie  count   min   max  median  \\\n",
       "0      17/07/2020  Ho Chi Minh City  temperature     24  26.0  34.0    29.5   \n",
       "1      21/10/2020  Ho Chi Minh City  temperature     24  26.0  31.0    27.0   \n",
       "2      07/11/2020  Ho Chi Minh City  temperature     24  25.0  32.5    28.0   \n",
       "3      22/11/2020  Ho Chi Minh City  temperature     24  24.0  33.5    26.0   \n",
       "4      10/01/2020  Ho Chi Minh City  temperature     24  23.5  34.0    28.5   \n",
       "...           ...               ...          ...    ...   ...   ...     ...   \n",
       "16222  26/02/2020           Ha Long           co     28   1.0   9.0     4.0   \n",
       "16223  27/02/2020           Ha Long           co     34   2.0   9.0     8.0   \n",
       "16224  29/02/2020           Ha Long           co     22   8.0   9.0     8.0   \n",
       "16225  24/06/2020           Ha Long           co     48   4.0   8.0     5.0   \n",
       "16226  25/06/2020           Ha Long           co     48   4.0  11.0     7.0   \n",
       "\n",
       "       variance  \n",
       "0         59.13  \n",
       "1         26.23  \n",
       "2         69.20  \n",
       "3        102.39  \n",
       "4        125.65  \n",
       "...         ...  \n",
       "16222     88.19  \n",
       "16223     48.52  \n",
       "16224      2.27  \n",
       "16225     13.36  \n",
       "16226     29.08  \n",
       "\n",
       "[16227 rows x 8 columns]"
      ]
     },
     "execution_count": 10,
     "metadata": {},
     "output_type": "execute_result"
    }
   ],
   "source": [
    "df.drop('Country',axis=1,inplace=True)\n",
    "df"
   ]
  },
  {
   "cell_type": "markdown",
   "id": "1991c026",
   "metadata": {},
   "source": [
    "**Thay đổi kiểu dữ liệu thích hợp cho các cột**"
   ]
  },
  {
   "cell_type": "markdown",
   "id": "cbf76863",
   "metadata": {},
   "source": [
    "Ta sẽ thay đổi kiểu dữ liệu cho cột date thành kiểu datetime, các cột có kiểu object ta sẽ chuyển thành kiểu string."
   ]
  },
  {
   "cell_type": "code",
   "execution_count": 11,
   "id": "c4eb63ec",
   "metadata": {},
   "outputs": [],
   "source": [
    "df['Date'] = pd.to_datetime(df['Date'])\n",
    "\n",
    "df['City'] = df['City'].astype('string')\n",
    "\n",
    "df['Specie'] = df['Specie'].astype('string')"
   ]
  },
  {
   "cell_type": "code",
   "execution_count": 12,
   "id": "947a1e9a",
   "metadata": {
    "scrolled": true
   },
   "outputs": [
    {
     "data": {
      "text/plain": [
       "Date        datetime64[ns]\n",
       "City                string\n",
       "Specie              string\n",
       "count                int64\n",
       "min                float64\n",
       "max                float64\n",
       "median             float64\n",
       "variance           float64\n",
       "dtype: object"
      ]
     },
     "execution_count": 12,
     "metadata": {},
     "output_type": "execute_result"
    }
   ],
   "source": [
    "df.dtypes"
   ]
  },
  {
   "cell_type": "markdown",
   "id": "23799541",
   "metadata": {},
   "source": [
    "**Thay đổi khác**"
   ]
  },
  {
   "cell_type": "markdown",
   "id": "efe9cbea",
   "metadata": {},
   "source": [
    "Trong cột Specie, có giá trị trùng tên nhau như: wind-speed và wind speed, wind-gust và wind gust, nên ta sẽ chuyển các Specie này theo 1 tên giống nhau."
   ]
  },
  {
   "cell_type": "code",
   "execution_count": 13,
   "id": "785f4512",
   "metadata": {},
   "outputs": [],
   "source": [
    "df.loc[df['Specie'] == 'wind-speed', 'Specie'] = 'wind speed'\n",
    "df.loc[df['Specie'] == 'wind-gust', 'Specie'] = 'wind gust'"
   ]
  },
  {
   "cell_type": "code",
   "execution_count": 14,
   "id": "dadd75fa",
   "metadata": {
    "scrolled": true
   },
   "outputs": [
    {
     "data": {
      "text/html": [
       "<div>\n",
       "<style scoped>\n",
       "    .dataframe tbody tr th:only-of-type {\n",
       "        vertical-align: middle;\n",
       "    }\n",
       "\n",
       "    .dataframe tbody tr th {\n",
       "        vertical-align: top;\n",
       "    }\n",
       "\n",
       "    .dataframe thead th {\n",
       "        text-align: right;\n",
       "    }\n",
       "</style>\n",
       "<table border=\"1\" class=\"dataframe\">\n",
       "  <thead>\n",
       "    <tr style=\"text-align: right;\">\n",
       "      <th></th>\n",
       "      <th>Date</th>\n",
       "      <th>City</th>\n",
       "      <th>Specie</th>\n",
       "      <th>count</th>\n",
       "      <th>min</th>\n",
       "      <th>max</th>\n",
       "      <th>median</th>\n",
       "      <th>variance</th>\n",
       "    </tr>\n",
       "  </thead>\n",
       "  <tbody>\n",
       "  </tbody>\n",
       "</table>\n",
       "</div>"
      ],
      "text/plain": [
       "Empty DataFrame\n",
       "Columns: [Date, City, Specie, count, min, max, median, variance]\n",
       "Index: []"
      ]
     },
     "execution_count": 14,
     "metadata": {},
     "output_type": "execute_result"
    }
   ],
   "source": [
    "df[(df['Specie'] == 'wind-speed') | (df['Specie'] == 'wind-gust')]"
   ]
  },
  {
   "cell_type": "markdown",
   "id": "cf917938",
   "metadata": {},
   "source": [
    "----"
   ]
  },
  {
   "cell_type": "markdown",
   "id": "333573e8",
   "metadata": {},
   "source": [
    "## Khám phá dữ liệu (tiếp theo)"
   ]
  },
  {
   "cell_type": "markdown",
   "id": "3548150e",
   "metadata": {},
   "source": [
    "### Phân bố dữ liệu"
   ]
  },
  {
   "cell_type": "markdown",
   "id": "4965b497",
   "metadata": {},
   "source": [
    "**Kiểu numeric**"
   ]
  },
  {
   "cell_type": "code",
   "execution_count": 15,
   "id": "febbbafe",
   "metadata": {},
   "outputs": [],
   "source": [
    "def missing_ratio(col):\n",
    "    return col.isna().mean() * 100\n",
    "\n",
    "def first_quartile(col):\n",
    "    return col.quantile(0.25)\n",
    "\n",
    "def third_quartile(col):\n",
    "    return col.quantile(0.75)"
   ]
  },
  {
   "cell_type": "code",
   "execution_count": 16,
   "id": "8cf548db",
   "metadata": {
    "scrolled": true
   },
   "outputs": [
    {
     "data": {
      "text/html": [
       "<div>\n",
       "<style scoped>\n",
       "    .dataframe tbody tr th:only-of-type {\n",
       "        vertical-align: middle;\n",
       "    }\n",
       "\n",
       "    .dataframe tbody tr th {\n",
       "        vertical-align: top;\n",
       "    }\n",
       "\n",
       "    .dataframe thead th {\n",
       "        text-align: right;\n",
       "    }\n",
       "</style>\n",
       "<table border=\"1\" class=\"dataframe\">\n",
       "  <thead>\n",
       "    <tr style=\"text-align: right;\">\n",
       "      <th></th>\n",
       "      <th>Date</th>\n",
       "      <th>count</th>\n",
       "      <th>min</th>\n",
       "      <th>max</th>\n",
       "      <th>median</th>\n",
       "      <th>variance</th>\n",
       "    </tr>\n",
       "  </thead>\n",
       "  <tbody>\n",
       "    <tr>\n",
       "      <th>missing_ratio</th>\n",
       "      <td>0.0</td>\n",
       "      <td>0.000</td>\n",
       "      <td>0.000</td>\n",
       "      <td>0.000</td>\n",
       "      <td>0.000</td>\n",
       "      <td>0.000</td>\n",
       "    </tr>\n",
       "    <tr>\n",
       "      <th>min</th>\n",
       "      <td>2019-12-30 00:00:00</td>\n",
       "      <td>2.000</td>\n",
       "      <td>-7.000</td>\n",
       "      <td>0.000</td>\n",
       "      <td>-3.000</td>\n",
       "      <td>0.000</td>\n",
       "    </tr>\n",
       "    <tr>\n",
       "      <th>max</th>\n",
       "      <td>2021-12-01 00:00:00</td>\n",
       "      <td>72.000</td>\n",
       "      <td>1026.000</td>\n",
       "      <td>1271.000</td>\n",
       "      <td>1028.500</td>\n",
       "      <td>622638.000</td>\n",
       "    </tr>\n",
       "    <tr>\n",
       "      <th>mean</th>\n",
       "      <td>2020-07-21 20:07:03.294509312</td>\n",
       "      <td>26.325</td>\n",
       "      <td>126.461</td>\n",
       "      <td>144.628</td>\n",
       "      <td>133.418</td>\n",
       "      <td>1106.045</td>\n",
       "    </tr>\n",
       "    <tr>\n",
       "      <th>first_quartile</th>\n",
       "      <td>2020-04-13 00:00:00</td>\n",
       "      <td>16.000</td>\n",
       "      <td>3.000</td>\n",
       "      <td>15.000</td>\n",
       "      <td>7.000</td>\n",
       "      <td>12.570</td>\n",
       "    </tr>\n",
       "    <tr>\n",
       "      <th>median</th>\n",
       "      <td>2020-07-18 00:00:00</td>\n",
       "      <td>24.000</td>\n",
       "      <td>18.000</td>\n",
       "      <td>28.000</td>\n",
       "      <td>22.300</td>\n",
       "      <td>51.300</td>\n",
       "    </tr>\n",
       "    <tr>\n",
       "      <th>third_quartile</th>\n",
       "      <td>2020-10-21 00:00:00</td>\n",
       "      <td>24.000</td>\n",
       "      <td>40.000</td>\n",
       "      <td>90.550</td>\n",
       "      <td>63.500</td>\n",
       "      <td>427.995</td>\n",
       "    </tr>\n",
       "  </tbody>\n",
       "</table>\n",
       "</div>"
      ],
      "text/plain": [
       "                                         Date   count       min       max  \\\n",
       "missing_ratio                             0.0   0.000     0.000     0.000   \n",
       "min                       2019-12-30 00:00:00   2.000    -7.000     0.000   \n",
       "max                       2021-12-01 00:00:00  72.000  1026.000  1271.000   \n",
       "mean            2020-07-21 20:07:03.294509312  26.325   126.461   144.628   \n",
       "first_quartile            2020-04-13 00:00:00  16.000     3.000    15.000   \n",
       "median                    2020-07-18 00:00:00  24.000    18.000    28.000   \n",
       "third_quartile            2020-10-21 00:00:00  24.000    40.000    90.550   \n",
       "\n",
       "                  median    variance  \n",
       "missing_ratio      0.000       0.000  \n",
       "min               -3.000       0.000  \n",
       "max             1028.500  622638.000  \n",
       "mean             133.418    1106.045  \n",
       "first_quartile     7.000      12.570  \n",
       "median            22.300      51.300  \n",
       "third_quartile    63.500     427.995  "
      ]
     },
     "execution_count": 16,
     "metadata": {},
     "output_type": "execute_result"
    }
   ],
   "source": [
    "num_col_profiles_df = df[['Date','count', 'min', 'max', 'median','variance']]\n",
    "num_col_profiles_df = num_col_profiles_df.agg([missing_ratio, pd.Series.min, pd.Series.max, pd.Series.mean,\n",
    "                                               first_quartile, pd.Series.median, third_quartile])\n",
    "num_col_profiles_df.round(3)"
   ]
  },
  {
   "cell_type": "markdown",
   "id": "4ffffd4c",
   "metadata": {},
   "source": [
    "**Kiểu categorical**"
   ]
  },
  {
   "cell_type": "code",
   "execution_count": 17,
   "id": "a21f2312",
   "metadata": {},
   "outputs": [
    {
     "data": {
      "text/html": [
       "<div>\n",
       "<style scoped>\n",
       "    .dataframe tbody tr th:only-of-type {\n",
       "        vertical-align: middle;\n",
       "    }\n",
       "\n",
       "    .dataframe tbody tr th {\n",
       "        vertical-align: top;\n",
       "    }\n",
       "\n",
       "    .dataframe thead th {\n",
       "        text-align: right;\n",
       "    }\n",
       "</style>\n",
       "<table border=\"1\" class=\"dataframe\">\n",
       "  <thead>\n",
       "    <tr style=\"text-align: right;\">\n",
       "      <th></th>\n",
       "      <th>City</th>\n",
       "      <th>Specie</th>\n",
       "    </tr>\n",
       "  </thead>\n",
       "  <tbody>\n",
       "    <tr>\n",
       "      <th>missing_ratio</th>\n",
       "      <td>0.0</td>\n",
       "      <td>0.0</td>\n",
       "    </tr>\n",
       "    <tr>\n",
       "      <th>unique</th>\n",
       "      <td>[Ho Chi Minh City, Hue, Ha Noi, Hai Phong, Ha ...</td>\n",
       "      <td>[temperature, humidity, wind speed, wind gust,...</td>\n",
       "    </tr>\n",
       "    <tr>\n",
       "      <th>nunique</th>\n",
       "      <td>5</td>\n",
       "      <td>14</td>\n",
       "    </tr>\n",
       "  </tbody>\n",
       "</table>\n",
       "</div>"
      ],
      "text/plain": [
       "                                                            City  \\\n",
       "missing_ratio                                                0.0   \n",
       "unique         [Ho Chi Minh City, Hue, Ha Noi, Hai Phong, Ha ...   \n",
       "nunique                                                        5   \n",
       "\n",
       "                                                          Specie  \n",
       "missing_ratio                                                0.0  \n",
       "unique         [temperature, humidity, wind speed, wind gust,...  \n",
       "nunique                                                       14  "
      ]
     },
     "execution_count": 17,
     "metadata": {},
     "output_type": "execute_result"
    }
   ],
   "source": [
    "cat_col_profiles_df = df[['City', 'Specie']]\n",
    "cat_col_profiles_df = cat_col_profiles_df.agg([missing_ratio, pd.Series.unique, pd.Series.nunique])\n",
    "cat_col_profiles_df"
   ]
  },
  {
   "cell_type": "code",
   "execution_count": 18,
   "id": "b62e6213",
   "metadata": {
    "scrolled": true
   },
   "outputs": [
    {
     "data": {
      "image/png": "[encoded data removed]",
      "text/plain": [
       "<Figure size 432x432 with 1 Axes>"
      ]
     },
     "metadata": {},
     "output_type": "display_data"
    }
   ],
   "source": [
    "plt.figure(figsize=(6,6))\n",
    "colors = sns.color_palette('pastel')[0:5]\n",
    "plt.pie(df['City'].value_counts().values,labels=df['City'].value_counts().index,colors=colors,autopct='%.0f%%');"
   ]
  },
  {
   "cell_type": "markdown",
   "id": "e5b5f197",
   "metadata": {},
   "source": [
    "Dữ liệu được lấy có sự phân bố ở các nơi khá đều nhau."
   ]
  },
  {
   "cell_type": "code",
   "execution_count": 19,
   "id": "54986d3e",
   "metadata": {
    "scrolled": false
   },
   "outputs": [
    {
     "data": {
      "image/png": "[encoded data removed]",
      "text/plain": [
       "<Figure size 432x432 with 1 Axes>"
      ]
     },
     "metadata": {},
     "output_type": "display_data"
    }
   ],
   "source": [
    "plt.figure(figsize=(6,6))\n",
    "colors = sns.color_palette('pastel')[0:14]\n",
    "plt.pie(df['Specie'].value_counts().values,labels=df['Specie'].value_counts().index,colors=colors,autopct='%.2f%%');"
   ]
  },
  {
   "cell_type": "markdown",
   "id": "be312c4d",
   "metadata": {},
   "source": [
    "Cột Specie gồm có những giá trị:\n",
    "   - temperature: nhiệt độ\n",
    "   - humidity: độ ẩm\n",
    "   - wind speed: tốc độ gió\n",
    "   - wind gust: gió giật\n",
    "   - pm25: bụi mịn 2.5 micron\n",
    "   - dew: sương mù\n",
    "   - pressure: áp suất\n",
    "   - co: khí CO\n",
    "   - pm10: bụi mịn 1.0 micron\n",
    "   - so2: khí SO2\n",
    "   - no2: khí NO2\n",
    "   - o3: khí O3\n",
    "   - aqi: chỉ số chất lượng không khí\n",
    "   - precipitation: giáng thuỷ"
   ]
  },
  {
   "cell_type": "markdown",
   "id": "a3cdcd22",
   "metadata": {},
   "source": [
    "----"
   ]
  },
  {
   "cell_type": "markdown",
   "id": "c77483ef",
   "metadata": {},
   "source": [
    "## Phân tích hồi quy, giải thích và dự báo"
   ]
  },
  {
   "cell_type": "markdown",
   "id": "b4c57ffa",
   "metadata": {},
   "source": [
    "### Phân tích hồi quy"
   ]
  },
  {
   "cell_type": "markdown",
   "id": "3fbdd47b",
   "metadata": {},
   "source": [
    "Xem xét các mối quan hệ giữa các cặp trường dữ liệu."
   ]
  },
  {
   "cell_type": "markdown",
   "id": "7d7a0b4d",
   "metadata": {},
   "source": [
    "**count với min (max, median hoặc variance)**"
   ]
  },
  {
   "cell_type": "markdown",
   "id": "b3ffde5d",
   "metadata": {},
   "source": [
    "Ta sẽ xét trường count với min làm đại diện."
   ]
  },
  {
   "cell_type": "code",
   "execution_count": 20,
   "id": "6e4960f1",
   "metadata": {
    "scrolled": false
   },
   "outputs": [
    {
     "name": "stdout",
     "output_type": "stream",
     "text": [
      "                            OLS Regression Results                            \n",
      "==============================================================================\n",
      "Dep. Variable:             Q(\"count\")   R-squared:                       0.000\n",
      "Model:                            OLS   Adj. R-squared:                  0.000\n",
      "Method:                 Least Squares   F-statistic:                     1.698\n",
      "Date:                Thu, 28 Apr 2022   Prob (F-statistic):              0.193\n",
      "Time:                        21:40:23   Log-Likelihood:                -69042.\n",
      "No. Observations:               16227   AIC:                         1.381e+05\n",
      "Df Residuals:                   16225   BIC:                         1.381e+05\n",
      "Df Model:                           1                                         \n",
      "Covariance Type:            nonrobust                                         \n",
      "==============================================================================\n",
      "                 coef    std err          t      P>|t|      [0.025      0.975]\n",
      "------------------------------------------------------------------------------\n",
      "Intercept     26.3972      0.145    182.284      0.000      26.113      26.681\n",
      "Q(\"min\")      -0.0006      0.000     -1.303      0.193      -0.001       0.000\n",
      "==============================================================================\n",
      "Omnibus:                     2678.576   Durbin-Watson:                   0.257\n",
      "Prob(Omnibus):                  0.000   Jarque-Bera (JB):             4256.296\n",
      "Skew:                           1.155   Prob(JB):                         0.00\n",
      "Kurtosis:                       3.980   Cond. No.                         358.\n",
      "==============================================================================\n",
      "\n",
      "Notes:\n",
      "[1] Standard Errors assume that the covariance matrix of the errors is correctly specified.\n"
     ]
    }
   ],
   "source": [
    "print(smf.ols('Q(\"count\")~Q(\"min\")', data=df).fit().summary())"
   ]
  },
  {
   "cell_type": "markdown",
   "id": "2a89600c",
   "metadata": {},
   "source": [
    "Có thể thấy rằng R-squared bằng 0, tức là mối quan hệ giữa 2 trường này không chặt chẽ (hầu như không ảnh hưởng tới nhau)."
   ]
  },
  {
   "cell_type": "code",
   "execution_count": 21,
   "id": "208f6ef9",
   "metadata": {},
   "outputs": [
    {
     "data": {
      "text/plain": [
       "<matplotlib.legend.Legend at 0x7fef1f61b580>"
      ]
     },
     "execution_count": 21,
     "metadata": {},
     "output_type": "execute_result"
    },
    {
     "data": {
      "image/png": "[encoded data removed]",
      "text/plain": [
       "<Figure size 432x288 with 1 Axes>"
      ]
     },
     "metadata": {
      "needs_background": "light"
     },
     "output_type": "display_data"
    }
   ],
   "source": [
    "sns.scatterplot(x='count',y='min',data=df)\n",
    "t = np.linspace(0, max(df['count']))\n",
    "y = lambda x: -0.0006 * x + 26.3972\n",
    "plt.plot(t, y(t),c='r',label='Linear Regression')\n",
    "plt.legend()"
   ]
  },
  {
   "cell_type": "markdown",
   "id": "90c0442f",
   "metadata": {},
   "source": [
    "Có những dữ liệu nằm quá xa so với đường linear."
   ]
  },
  {
   "cell_type": "markdown",
   "id": "9ff41321",
   "metadata": {},
   "source": [
    "**min với max (median hoặc variance)**"
   ]
  },
  {
   "cell_type": "code",
   "execution_count": 22,
   "id": "960cfd69",
   "metadata": {
    "scrolled": false
   },
   "outputs": [
    {
     "name": "stdout",
     "output_type": "stream",
     "text": [
      "                            OLS Regression Results                            \n",
      "==============================================================================\n",
      "Dep. Variable:               Q(\"min\")   R-squared:                       0.990\n",
      "Model:                            OLS   Adj. R-squared:                  0.990\n",
      "Method:                 Least Squares   F-statistic:                 1.684e+06\n",
      "Date:                Thu, 28 Apr 2022   Prob (F-statistic):               0.00\n",
      "Time:                        21:40:24   Log-Likelihood:                -78141.\n",
      "No. Observations:               16227   AIC:                         1.563e+05\n",
      "Df Residuals:                   16225   BIC:                         1.563e+05\n",
      "Df Model:                           1                                         \n",
      "Covariance Type:            nonrobust                                         \n",
      "==============================================================================\n",
      "                 coef    std err          t      P>|t|      [0.025      0.975]\n",
      "------------------------------------------------------------------------------\n",
      "Intercept    -18.8144      0.260    -72.422      0.000     -19.324     -18.305\n",
      "Q(\"max\")       1.0045      0.001   1297.591      0.000       1.003       1.006\n",
      "==============================================================================\n",
      "Omnibus:                    23630.649   Durbin-Watson:                   0.891\n",
      "Prob(Omnibus):                  0.000   Jarque-Bera (JB):         30633732.662\n",
      "Skew:                          -8.285   Prob(JB):                         0.00\n",
      "Kurtosis:                     215.210   Cond. No.                         372.\n",
      "==============================================================================\n",
      "\n",
      "Notes:\n",
      "[1] Standard Errors assume that the covariance matrix of the errors is correctly specified.\n"
     ]
    }
   ],
   "source": [
    "print(smf.ols('Q(\"min\")~Q(\"max\")', data=df).fit().summary())"
   ]
  },
  {
   "cell_type": "markdown",
   "id": "5c387fa9",
   "metadata": {},
   "source": [
    "Có thể thấy rằng R-squared bằng 0.99, tức là mối quan hệ giữa 2 trường này rất chặt chẽ."
   ]
  },
  {
   "cell_type": "code",
   "execution_count": 23,
   "id": "39c8f03c",
   "metadata": {
    "scrolled": false
   },
   "outputs": [
    {
     "data": {
      "text/plain": [
       "<matplotlib.legend.Legend at 0x7fef201cf160>"
      ]
     },
     "execution_count": 23,
     "metadata": {},
     "output_type": "execute_result"
    },
    {
     "data": {
      "image/png": "[encoded data removed]",
      "text/plain": [
       "<Figure size 432x288 with 1 Axes>"
      ]
     },
     "metadata": {
      "needs_background": "light"
     },
     "output_type": "display_data"
    }
   ],
   "source": [
    "sns.scatterplot(x='min',y='max',data=df)\n",
    "t = np.linspace(0, max(df['min']))\n",
    "y = lambda x: 1.0045 * x - 18.8144\n",
    "plt.plot(t, y(t),c='r',label='Linear Regression')\n",
    "plt.legend()"
   ]
  },
  {
   "cell_type": "markdown",
   "id": "e4a8c2e1",
   "metadata": {},
   "source": [
    "----"
   ]
  },
  {
   "cell_type": "markdown",
   "id": "d1ec65c7",
   "metadata": {},
   "source": [
    "### Giải thích và dự đoán"
   ]
  },
  {
   "cell_type": "markdown",
   "id": "9f1ddb24",
   "metadata": {},
   "source": [
    "Vì bộ dữ liệu liên quan đến thời tiết thay vì sử dụng cách dự đoán như thông thường (chuẩn đoán dữ liệu nào đó vào loại nào) nhóm sẽ chọn 1 hình thức dự đoán khác đó là dự đoán tương lai (future prediction). Nhóm sẽ chọn cột max để làm cột để dự đoán tương lai đồng thời chọn city được dự đoán là Thành phố HCM."
   ]
  },
  {
   "cell_type": "code",
   "execution_count": 24,
   "id": "939530cb",
   "metadata": {},
   "outputs": [
    {
     "name": "stderr",
     "output_type": "stream",
     "text": [
      "<ipython-input-24-97190dc5b43e>:4: SettingWithCopyWarning: \n",
      "A value is trying to be set on a copy of a slice from a DataFrame.\n",
      "Try using .loc[row_indexer,col_indexer] = value instead\n",
      "\n",
      "See the caveats in the documentation: https://pandas.pydata.org/pandas-docs/stable/user_guide/indexing.html#returning-a-view-versus-a-copy\n",
      "  new_df['Year'] = new_df['Date'].dt.year\n",
      "<ipython-input-24-97190dc5b43e>:5: SettingWithCopyWarning: \n",
      "A value is trying to be set on a copy of a slice from a DataFrame.\n",
      "Try using .loc[row_indexer,col_indexer] = value instead\n",
      "\n",
      "See the caveats in the documentation: https://pandas.pydata.org/pandas-docs/stable/user_guide/indexing.html#returning-a-view-versus-a-copy\n",
      "  new_df['Month'] = new_df['Date'].dt.month\n",
      "<ipython-input-24-97190dc5b43e>:6: SettingWithCopyWarning: \n",
      "A value is trying to be set on a copy of a slice from a DataFrame.\n",
      "Try using .loc[row_indexer,col_indexer] = value instead\n",
      "\n",
      "See the caveats in the documentation: https://pandas.pydata.org/pandas-docs/stable/user_guide/indexing.html#returning-a-view-versus-a-copy\n",
      "  new_df['Day'] = new_df['Date'].dt.day\n",
      "<ipython-input-24-97190dc5b43e>:11: SettingWithCopyWarning: \n",
      "A value is trying to be set on a copy of a slice from a DataFrame.\n",
      "Try using .loc[row_indexer,col_indexer] = value instead\n",
      "\n",
      "See the caveats in the documentation: https://pandas.pydata.org/pandas-docs/stable/user_guide/indexing.html#returning-a-view-versus-a-copy\n",
      "  new_df['Specie'] = specie\n",
      "/Users/lanmac/opt/anaconda3/lib/python3.8/site-packages/pandas/core/frame.py:4308: SettingWithCopyWarning: \n",
      "A value is trying to be set on a copy of a slice from a DataFrame\n",
      "\n",
      "See the caveats in the documentation: https://pandas.pydata.org/pandas-docs/stable/user_guide/indexing.html#returning-a-view-versus-a-copy\n",
      "  return super().drop(\n"
     ]
    },
    {
     "data": {
      "text/html": [
       "<div>\n",
       "<style scoped>\n",
       "    .dataframe tbody tr th:only-of-type {\n",
       "        vertical-align: middle;\n",
       "    }\n",
       "\n",
       "    .dataframe tbody tr th {\n",
       "        vertical-align: top;\n",
       "    }\n",
       "\n",
       "    .dataframe thead th {\n",
       "        text-align: right;\n",
       "    }\n",
       "</style>\n",
       "<table border=\"1\" class=\"dataframe\">\n",
       "  <thead>\n",
       "    <tr style=\"text-align: right;\">\n",
       "      <th></th>\n",
       "      <th>Specie</th>\n",
       "      <th>min</th>\n",
       "      <th>max</th>\n",
       "      <th>median</th>\n",
       "      <th>variance</th>\n",
       "      <th>Year</th>\n",
       "      <th>Month</th>\n",
       "      <th>Day</th>\n",
       "    </tr>\n",
       "  </thead>\n",
       "  <tbody>\n",
       "    <tr>\n",
       "      <th>1233</th>\n",
       "      <td>2</td>\n",
       "      <td>46.0</td>\n",
       "      <td>168.0</td>\n",
       "      <td>89.0</td>\n",
       "      <td>20188.60</td>\n",
       "      <td>2019</td>\n",
       "      <td>12</td>\n",
       "      <td>30</td>\n",
       "    </tr>\n",
       "    <tr>\n",
       "      <th>1192</th>\n",
       "      <td>2</td>\n",
       "      <td>55.0</td>\n",
       "      <td>156.0</td>\n",
       "      <td>82.0</td>\n",
       "      <td>6151.58</td>\n",
       "      <td>2019</td>\n",
       "      <td>12</td>\n",
       "      <td>31</td>\n",
       "    </tr>\n",
       "    <tr>\n",
       "      <th>1224</th>\n",
       "      <td>2</td>\n",
       "      <td>42.0</td>\n",
       "      <td>154.0</td>\n",
       "      <td>74.0</td>\n",
       "      <td>8109.11</td>\n",
       "      <td>2020</td>\n",
       "      <td>1</td>\n",
       "      <td>1</td>\n",
       "    </tr>\n",
       "    <tr>\n",
       "      <th>341</th>\n",
       "      <td>4</td>\n",
       "      <td>24.0</td>\n",
       "      <td>31.5</td>\n",
       "      <td>26.0</td>\n",
       "      <td>64.76</td>\n",
       "      <td>2020</td>\n",
       "      <td>1</td>\n",
       "      <td>2</td>\n",
       "    </tr>\n",
       "    <tr>\n",
       "      <th>706</th>\n",
       "      <td>1</td>\n",
       "      <td>42.5</td>\n",
       "      <td>75.5</td>\n",
       "      <td>57.0</td>\n",
       "      <td>1240.54</td>\n",
       "      <td>2020</td>\n",
       "      <td>1</td>\n",
       "      <td>2</td>\n",
       "    </tr>\n",
       "    <tr>\n",
       "      <th>...</th>\n",
       "      <td>...</td>\n",
       "      <td>...</td>\n",
       "      <td>...</td>\n",
       "      <td>...</td>\n",
       "      <td>...</td>\n",
       "      <td>...</td>\n",
       "      <td>...</td>\n",
       "      <td>...</td>\n",
       "    </tr>\n",
       "    <tr>\n",
       "      <th>559</th>\n",
       "      <td>1</td>\n",
       "      <td>36.0</td>\n",
       "      <td>73.0</td>\n",
       "      <td>51.5</td>\n",
       "      <td>1460.00</td>\n",
       "      <td>2021</td>\n",
       "      <td>12</td>\n",
       "      <td>1</td>\n",
       "    </tr>\n",
       "    <tr>\n",
       "      <th>1014</th>\n",
       "      <td>6</td>\n",
       "      <td>1.8</td>\n",
       "      <td>4.1</td>\n",
       "      <td>2.8</td>\n",
       "      <td>3.48</td>\n",
       "      <td>2021</td>\n",
       "      <td>12</td>\n",
       "      <td>1</td>\n",
       "    </tr>\n",
       "    <tr>\n",
       "      <th>1237</th>\n",
       "      <td>2</td>\n",
       "      <td>50.0</td>\n",
       "      <td>95.0</td>\n",
       "      <td>68.0</td>\n",
       "      <td>1529.49</td>\n",
       "      <td>2021</td>\n",
       "      <td>12</td>\n",
       "      <td>1</td>\n",
       "    </tr>\n",
       "    <tr>\n",
       "      <th>1656</th>\n",
       "      <td>0</td>\n",
       "      <td>14.0</td>\n",
       "      <td>17.0</td>\n",
       "      <td>14.5</td>\n",
       "      <td>8.67</td>\n",
       "      <td>2021</td>\n",
       "      <td>12</td>\n",
       "      <td>1</td>\n",
       "    </tr>\n",
       "    <tr>\n",
       "      <th>1940</th>\n",
       "      <td>3</td>\n",
       "      <td>1009.0</td>\n",
       "      <td>1013.5</td>\n",
       "      <td>1011.0</td>\n",
       "      <td>18.47</td>\n",
       "      <td>2021</td>\n",
       "      <td>12</td>\n",
       "      <td>1</td>\n",
       "    </tr>\n",
       "  </tbody>\n",
       "</table>\n",
       "<p>2249 rows × 8 columns</p>\n",
       "</div>"
      ],
      "text/plain": [
       "      Specie     min     max  median  variance  Year  Month  Day\n",
       "1233       2    46.0   168.0    89.0  20188.60  2019     12   30\n",
       "1192       2    55.0   156.0    82.0   6151.58  2019     12   31\n",
       "1224       2    42.0   154.0    74.0   8109.11  2020      1    1\n",
       "341        4    24.0    31.5    26.0     64.76  2020      1    2\n",
       "706        1    42.5    75.5    57.0   1240.54  2020      1    2\n",
       "...      ...     ...     ...     ...       ...   ...    ...  ...\n",
       "559        1    36.0    73.0    51.5   1460.00  2021     12    1\n",
       "1014       6     1.8     4.1     2.8      3.48  2021     12    1\n",
       "1237       2    50.0    95.0    68.0   1529.49  2021     12    1\n",
       "1656       0    14.0    17.0    14.5      8.67  2021     12    1\n",
       "1940       3  1009.0  1013.5  1011.0     18.47  2021     12    1\n",
       "\n",
       "[2249 rows x 8 columns]"
      ]
     },
     "execution_count": 24,
     "metadata": {},
     "output_type": "execute_result"
    }
   ],
   "source": [
    "new_df = df[df['City']=='Ho Chi Minh City']\n",
    "\n",
    "# tách cột Date thành 3 cột year, month và day\n",
    "new_df['Year'] = new_df['Date'].dt.year\n",
    "new_df['Month'] = new_df['Date'].dt.month\n",
    "new_df['Day'] = new_df['Date'].dt.day\n",
    "\n",
    "# sử dụng LabelEncoder để chuyển các cột categorical thành numeric\n",
    "le = LabelEncoder()\n",
    "specie = le.fit_transform(new_df['Specie'])\n",
    "new_df['Specie'] = specie\n",
    "\n",
    "# drop các cột không phù hợp cho việc dự đoán: Date, City, count\n",
    "new_df.drop(['Date','City','count'],axis=1,inplace=True)\n",
    "# sắp xếp dữ liệu theo ngày tăng dần để thuận tiện theo dõi\n",
    "new_df = new_df.sort_values(['Year','Month','Day'])\n",
    "new_df"
   ]
  },
  {
   "cell_type": "code",
   "execution_count": 25,
   "id": "0badb20a",
   "metadata": {
    "scrolled": true
   },
   "outputs": [],
   "source": [
    "y = new_df['max']\n",
    "X = new_df.drop('max',axis=1)\n",
    "\n",
    "# tách tập train và tập test theo tỷ lệ 70/30\n",
    "train_X, test_X, train_y, test_y = train_test_split(X,y,test_size=0.30,random_state=4)"
   ]
  },
  {
   "cell_type": "markdown",
   "id": "1944957c",
   "metadata": {},
   "source": [
    "Để dự đoán tương lai, nhóm sẽ sử dụng phương pháp RandomForestRegressor vì phương pháp này có thể sử dụng để dự đoán các dữ liệu liên tục vì vậy mà có thể dự đoán được tương lai gần."
   ]
  },
  {
   "cell_type": "code",
   "execution_count": 26,
   "id": "21cefb69",
   "metadata": {},
   "outputs": [
    {
     "name": "stdout",
     "output_type": "stream",
     "text": [
      "Training X shape: (1574, 7)\n",
      "Training y shape: (1574,)\n",
      "Testing X shape: (675, 7)\n",
      "Testing y shape: (675,)\n",
      "[  99.55     26.424    31.9985   25.0905   99.943    26.535     3.7044\n",
      "  160.73     89.6725   24.52     26.798  1012.1535    5.8789   77.9965\n",
      "   32.421     5.3521 1009.6825    4.607    87.9375   22.9775    4.666\n",
      "   95.1325  102.4335  116.703    25.941  1008.4345 1011.009     5.3416\n",
      " 1006.46   1012.0875   25.262    26.053    96.       83.78     92.9095\n",
      "   36.203    25.8125   31.166    26.1115    4.7437    4.6524   77.862\n",
      " 1009.319  1008.294    22.428    85.7295 1009.76   1015.014    35.089\n",
      "   20.67     97.405    68.6735  108.916     6.2458    5.6586   25.2525\n",
      "  161.599  1011.963   109.276    81.0085 1010.028    84.5325  100.66\n",
      "   83.1275  115.521    86.1875   32.7885 1006.814    99.871     3.0622\n",
      "    3.5172   88.7115   21.2147   34.937    26.8975  116.525    24.225\n",
      "   99.631    99.934    99.85     91.8025 1008.982  1011.13     83.2535\n",
      "    5.876    26.315    35.51      4.682    22.9465    5.8421   34.579\n",
      "   33.4485    4.9974   98.113    33.6685    5.9002    5.7298    5.779\n",
      "   34.717    93.9705    5.3623 1009.7425   25.4335    5.5585    3.4704\n",
      "   26.0355 1011.191  1012.4715 1009.871     5.3365    3.7541   99.649\n",
      "   21.85   1011.0685 1013.523    92.2325    5.1204  154.614    26.0375\n",
      "   97.7595   23.914    26.9135   31.67     23.163     3.8804   32.686\n",
      "   11.3751  124.104   155.616   146.585    98.626    81.984    33.9845\n",
      "  155.387    99.894    32.2125   32.6865 1011.022    21.086     4.6999\n",
      "   69.4835  111.613    34.4175   21.655  1013.0515   29.3385   20.685\n",
      "   95.3775 1010.861     5.6567   81.864     5.1882   77.8065 1015.748\n",
      "   27.243    72.718    94.3745 1009.3625  108.339  1009.047     3.545\n",
      "    3.6636    5.       26.206     4.9977   89.773    72.2505   26.2685\n",
      "  157.487  1011.1545   33.6175   76.5565   26.0315   27.562    33.082\n",
      "   91.6165   34.6905   91.143    69.789  1011.04    136.3675 1012.8365\n",
      "   33.5595   99.973     2.9371   88.602     3.9242    4.2455 1010.231\n",
      "   60.244  1009.5595   97.9105   36.568    24.7985   77.272    33.717\n",
      "    5.8513   24.618     6.0388 1010.8655 1009.492    70.4035  101.703\n",
      "   31.755  1012.0715   99.3465 1008.9475   34.045    33.647    23.5045\n",
      "   25.9575   30.2115   26.246    80.3575 1008.906    86.8295   24.517\n",
      "    4.9448    6.1654    5.9862 1010.988     5.5067   80.2875  100.208\n",
      "   99.658     4.464    32.329    24.265     4.1153 1009.869   163.424\n",
      "    4.0393  108.067     6.6722   22.9525   26.584  1011.336    33.2815\n",
      "   97.7365  155.488    90.5545    5.3075   36.281     6.1326   26.573\n",
      "   25.2525   34.4025    4.8651   33.332   152.054     6.2198   77.882\n",
      " 1008.012     3.1522   91.05     85.5125    5.8558    5.5925 1010.5985\n",
      "   26.0125   33.982    33.2855   96.224    99.685  1007.2255 1007.1065\n",
      "    4.9597   95.3835   90.2545  157.724  1011.8515   98.446    24.8925\n",
      " 1012.2155  143.549     3.6952  104.85   1014.024    34.1175   26.2445\n",
      "   25.927    75.122  1008.874    30.2545 1011.943    26.4645 1008.2685\n",
      "   23.0505    5.0987   81.321    18.3342 1014.0775 1012.07     26.2675\n",
      "   34.181   140.959    87.295    99.733    26.5695 1007.379  1011.129\n",
      "   11.7664   26.0205   98.971    71.242     2.9371 1010.429     4.9793\n",
      "  164.719    29.6415   24.551    96.642    33.7715 1008.9455   86.1395\n",
      "   31.9205 1010.0055   94.5525   26.088    34.3935    3.6867   30.6545\n",
      "    5.8579   13.4297    3.6915   80.928  1012.1165 1013.169    35.1245\n",
      "   95.939    94.202     6.3845  158.26     36.228    86.0855 1011.053\n",
      "   89.298   135.61    163.887    21.1285   12.7169  113.975    23.843\n",
      "   87.5315   18.7196  105.851    33.0105  108.496    26.119    91.52\n",
      "   29.396    30.788  1009.342    24.704    26.1135    5.7946   34.355\n",
      "   75.464    26.0085   26.1675    4.9804   33.3835    5.2759 1007.7275\n",
      "    3.4768 1006.7965   25.5415   26.0855   22.416    74.547    26.1145\n",
      "  142.766  1009.976   131.41     34.5965   70.958    26.3075   33.1825\n",
      "   99.082    21.686  1009.2205    4.6649    4.2438 1008.9925    5.5411\n",
      "  108.374    99.901   125.447  1007.668    99.6355    5.8427    4.476\n",
      "  145.526  1010.9935   32.284  1010.2735   35.911  1012.3335  172.822\n",
      "   96.4815 1014.0545   32.586    34.289    93.147  1009.373  1010.066\n",
      "   25.766    13.2818 1008.724    23.5605    4.9027 1008.4865   32.492\n",
      "   32.828     4.9057   72.049  1009.348    30.8095   75.318    32.955\n",
      " 1011.609    33.6115 1011.15      4.4529   85.956    99.07     90.259\n",
      "   25.954     5.7302  151.429    25.13     90.6005    4.595    35.218\n",
      "   33.367  1009.96    100.3265 1007.087  1011.433  1010.451  1014.015\n",
      "   31.441  1011.9735   32.124     6.1498   28.5585   25.975  1006.512\n",
      "   19.412   154.128    79.4705   99.631     5.1044   26.206    96.801\n",
      "    6.0298   86.34     99.811    97.891  1009.5695   49.6565   32.513\n",
      "   26.872    95.9015   26.301    28.118    30.492    33.865  1011.009\n",
      "   27.0955 1010.043    26.2765    6.0794    5.9517   76.63   1009.398\n",
      " 1011.4845  136.177    23.7705    4.3728 1011.5915   97.775     5.062\n",
      "  143.438    34.743     8.5148  162.277    92.6265   88.025   152.583\n",
      "   73.6465   22.371  1013.252     4.4722    2.9603   24.0945   25.4155\n",
      "   93.736    26.872    30.232  1007.7955  166.6       4.3722   94.493\n",
      "   26.0345   99.928    95.709    23.748  1010.493    26.016     4.5669\n",
      "   94.976     3.4122   32.91   1013.055    99.079    22.9475   64.322\n",
      "   34.171    31.2375 1009.191  1008.9745  110.568  1012.9035   96.283\n",
      "   77.634     3.8868  134.051    33.9765  145.771    30.306  1012.2605\n",
      "   31.5105   97.092     5.8837  150.815    88.7715   73.468   166.994\n",
      "   35.069    26.85     94.232    25.0475   21.8705   30.5325   24.1895\n",
      "   92.47     90.0235    6.071    71.804    97.995    95.9945   32.7195\n",
      "  130.769     4.0745   83.2365    5.0708   31.84     31.279    28.095\n",
      "   32.1805    5.7284   13.24   1010.9435 1012.3195   25.9425   98.406\n",
      "  102.5445 1011.473    89.2245 1013.032  1011.643    31.655     5.3747\n",
      "  102.994    99.859    25.2125   94.383    20.8165    5.7339   97.831\n",
      " 1006.837     6.1794   26.0695   26.103  1009.219  1011.6255   25.908\n",
      "   92.9445 1009.7235    5.6803   26.3005   25.9645   96.2555   55.7923\n",
      "    4.4377   81.004     3.9245   26.873  1011.943  1011.949     5.3735\n",
      "   26.1715    4.4609   20.208    94.708     4.6522   23.281    33.014\n",
      "    3.5473   35.622  1010.759    99.829    85.703  1008.343    26.062\n",
      "    3.4647   26.078    36.2475   99.056    86.4515    6.1897   97.6185\n",
      " 1007.2715   22.142   103.8175    5.0262   26.0215  147.687    99.016\n",
      "   33.2985   26.9985 1010.1845   94.422    26.0805   33.8735   34.6265\n",
      "  161.49      3.5518 1006.45     70.3205   33.3335   87.419     5.2601\n",
      "    3.4502   72.785   164.679    91.92     89.1235   87.8445   95.5205\n",
      "   26.274    35.8755   25.5865   25.538    31.7795   33.6645   90.106\n",
      "  112.973  1011.7575 1008.4095 1011.5805 1013.24     30.8965   32.9975\n",
      "   61.781     6.2272    3.8301   34.4505   25.599   147.891    95.6375\n",
      "   86.1115   31.567    30.9045]\n",
      "Mean Absolute Error: 2.02 degrees.\n",
      "Accuracy of the model: 98.7 %\n"
     ]
    }
   ],
   "source": [
    "print('Training X shape:', train_X.shape)\n",
    "print('Training y shape:', train_y.shape)\n",
    "print('Testing X shape:', test_X.shape)\n",
    "print('Testing y shape:', test_y.shape)\n",
    "\n",
    "# khởi tạo model\n",
    "rf = RandomForestRegressor(n_estimators=1000, random_state=4)\n",
    "rf.fit(train_X, train_y)\n",
    "\n",
    "# dự đoán\n",
    "predictions = rf.predict(test_X)\n",
    "print(predictions)\n",
    "\n",
    "# tính toán MAE\n",
    "errors = abs(predictions - test_y)\n",
    "print('Mean Absolute Error:', round(np.mean(errors), 2), 'degrees.')\n",
    "\n",
    "# tính toán độ chính xác\n",
    "mape = 100* (errors/test_y)\n",
    "accuracy = 100 - np.mean(mape/3)\n",
    "print('Accuracy of the model:', round(accuracy,2),'%')"
   ]
  },
  {
   "cell_type": "markdown",
   "id": "531bd7a5",
   "metadata": {},
   "source": [
    "Với độ chính xác 98,7%, model trên là model tốt nhất để dự đoán tương lai."
   ]
  }
 ],
 "metadata": {
  "kernelspec": {
   "display_name": "Python 3",
   "language": "python",
   "name": "python3"
  },
  "language_info": {
   "codemirror_mode": {
    "name": "ipython",
    "version": 3
   },
   "file_extension": ".py",
   "mimetype": "text/x-python",
   "name": "python",
   "nbconvert_exporter": "python",
   "pygments_lexer": "ipython3",
   "version": "3.8.8"
  }
 },
 "nbformat": 4,
 "nbformat_minor": 5
}

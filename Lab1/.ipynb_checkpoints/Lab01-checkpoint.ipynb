{
 "cells": [
  {
   "cell_type": "code",
   "execution_count": 1,
   "id": "8d14137f",
   "metadata": {
    "scrolled": true
   },
   "outputs": [],
   "source": [
    "#!pip install selenium"
   ]
  },
  {
   "cell_type": "code",
   "execution_count": 1,
   "id": "b3e8dc15",
   "metadata": {},
   "outputs": [],
   "source": [
    "import requests\n",
    "import requests_cache\n",
    "from bs4 import BeautifulSoup\n",
    "import time\n",
    "import pandas as pd\n",
    "import csv\n",
    "import numpy as np\n",
    "import math\n",
    "import matplotlib.pyplot as plt\n",
    "import seaborn as sns\n",
    "from requests_html import HTML\n",
    "from selenium import webdriver\n",
    "from selenium.webdriver.chrome.options import Options"
   ]
  },
  {
   "cell_type": "markdown",
   "id": "e98bf1a9",
   "metadata": {},
   "source": [
    "# Thu thập dữ liệu"
   ]
  },
  {
   "cell_type": "code",
   "execution_count": 2,
   "id": "bed63d51",
   "metadata": {},
   "outputs": [],
   "source": [
    "#Yesterday\n",
    "#world = \"/html/body/div[3]/div[3]/div/div[6]/div[2]/div/div/div[2]/div/nav/ul/li[1]\"\n",
    "#europe =\"/html/body/div[3]/div[3]/div/div[6]/div[2]/div/div/div[2]/div/nav/ul/li[2]\"\n",
    "#north_america=\"/html/body/div[3]/div[3]/div/div[6]/div[2]/div/div/div[2]/div/nav/ul/li[3]\"\n",
    "#asia=\"/html/body/div[3]/div[3]/div/div[6]/div[2]/div/div/div[2]/div/nav/ul/li[4]\"\n",
    "#south_america=\"/html/body/div[3]/div[3]/div/div[6]/div[2]/div/div/div[2]/div/nav/ul/li[5]\"\n",
    "#africa=\"/html/body/div[3]/div[3]/div/div[6]/div[2]/div/div/div[2]/div/nav/ul/li[6]\"\n",
    "#oceania=\"/html/body/div[3]/div[3]/div/div[6]/div[2]/div/div/div[2]/div/nav/ul/li[7]\"\n",
    "#2 Days Ago\n",
    "world = \"/html/body/div[3]/div[3]/div/div[6]/div[3]/div/div/div[2]/div/nav/ul/li[1]/a\"\n",
    "europe = \"/html/body/div[3]/div[3]/div/div[6]/div[3]/div/div/div[2]/div/nav/ul/li[2]/a\"\n",
    "north_america = \"/html/body/div[3]/div[3]/div/div[6]/div[3]/div/div/div[2]/div/nav/ul/li[3]/a\"\n",
    "asia = \"/html/body/div[3]/div[3]/div/div[6]/div[3]/div/div/div[2]/div/nav/ul/li[4]/a\"\n",
    "south_america = \"/html/body/div[3]/div[3]/div/div[6]/div[3]/div/div/div[2]/div/nav/ul/li[5]/a\"\n",
    "africa = \"/html/body/div[3]/div[3]/div/div[6]/div[3]/div/div/div[2]/div/nav/ul/li[6]/a\"\n",
    "oceania = \"/html/body/div[3]/div[3]/div/div[6]/div[3]/div/div/div[2]/div/nav/ul/li[7]/a\"\n",
    "def get_source(continent):\n",
    "    table=[]\n",
    "    options = Options()\n",
    "    options.add_argument(\"start-maximized\")\n",
    "    \n",
    "    browser = webdriver.Chrome()\n",
    "    \n",
    "    url = \"https://www.worldometers.info/coronavirus/\"\n",
    "     \n",
    "    # Opening the website\n",
    "    browser.get(url)\n",
    "    \n",
    "    #maximize window size\n",
    "    browser.maximize_window()\n",
    "    \n",
    "    #scroll down page by pixel\n",
    "    browser.execute_script('window.scrollBy(0,18000)','')\n",
    "    \n",
    "\n",
    "    button = browser.find_element_by_link_text(\"2 Days Ago\")\n",
    "    button.click()\n",
    "    \n",
    "    button1 = browser.find_element_by_xpath(continent)\n",
    "    button1.click()\n",
    "   \n",
    "    html = browser.page_source\n",
    "    browser.close()\n",
    "    return html"
   ]
  },
  {
   "cell_type": "markdown",
   "id": "ec2a46b7",
   "metadata": {},
   "source": [
    "Hàm `get_source` trả về source html của trang web\n",
    "\n",
    "-`continent`: là một chuỗi xpath của các tab như `All/Europe/North America/Asia/South America/Africa/Oceania`\n",
    "    \n",
    "-`get_source`: sử dụng thư viện selenium để mở rộng cửa sổ web, cuộn trang web, nhấn tab `Yesterday` và nhấn các tab như `All/Europe/North America/Asia/South America/Africa/Oceania`"
   ]
  },
  {
   "cell_type": "code",
   "execution_count": 3,
   "id": "9ef04ff2",
   "metadata": {},
   "outputs": [],
   "source": [
    "def write_file(continent,file_name):\n",
    "    html = get_source(continent)\n",
    "    CountryList = pd.read_html(html)\n",
    "    df=CountryList[1]\n",
    "    df.to_csv(file_name,sep = '\\t', index=False)"
   ]
  },
  {
   "cell_type": "markdown",
   "id": "d8d821ea",
   "metadata": {},
   "source": [
    "Hàm `write_file` trả về 1 file csv chứa tình hình diễn biến dịch Covid 19 ở các quốc gia hoặc vùng lãnh thổ trên Thế giới\n",
    "\n",
    "-`continent`: là một chuỗi xpath của các tab như `All/Europe/North America/Asia/South America/Africa/Oceania`\n",
    "\n",
    "-`file_name`: tên của file cần lưu\n",
    "\n",
    "-`write_file`: sử dụng source html từ hàm `get_source` và hàm `read_html` của `pandas` để lấy được bảng thống kê tình hình diễn biến dịch Covid 19 ở các quốc gia hoặc vùng lãnh thổ trên Thế giới dưới dạng dataframe. Ta chuyển dataframe thành csv file bằng hàm `to_csv` của pandas\n",
    "\n",
    "VD: `write_file(world,'All_07122021.csv')`"
   ]
  },
  {
   "cell_type": "code",
   "execution_count": 4,
   "id": "39e9bafb",
   "metadata": {},
   "outputs": [
    {
     "name": "stderr",
     "output_type": "stream",
     "text": [
      "C:\\Users\\UYENTR~1\\AppData\\Local\\Temp/ipykernel_2944/114109292.py:36: DeprecationWarning: find_element_by_* commands are deprecated. Please use find_element() instead\n",
      "  button = browser.find_element_by_link_text(\"2 Days Ago\")\n",
      "C:\\Users\\UYENTR~1\\AppData\\Local\\Temp/ipykernel_2944/114109292.py:39: DeprecationWarning: find_element_by_* commands are deprecated. Please use find_element() instead\n",
      "  button1 = browser.find_element_by_xpath(continent)\n",
      "C:\\Users\\UYENTR~1\\AppData\\Local\\Temp/ipykernel_2944/114109292.py:36: DeprecationWarning: find_element_by_* commands are deprecated. Please use find_element() instead\n",
      "  button = browser.find_element_by_link_text(\"2 Days Ago\")\n",
      "C:\\Users\\UYENTR~1\\AppData\\Local\\Temp/ipykernel_2944/114109292.py:39: DeprecationWarning: find_element_by_* commands are deprecated. Please use find_element() instead\n",
      "  button1 = browser.find_element_by_xpath(continent)\n",
      "C:\\Users\\UYENTR~1\\AppData\\Local\\Temp/ipykernel_2944/114109292.py:36: DeprecationWarning: find_element_by_* commands are deprecated. Please use find_element() instead\n",
      "  button = browser.find_element_by_link_text(\"2 Days Ago\")\n",
      "C:\\Users\\UYENTR~1\\AppData\\Local\\Temp/ipykernel_2944/114109292.py:39: DeprecationWarning: find_element_by_* commands are deprecated. Please use find_element() instead\n",
      "  button1 = browser.find_element_by_xpath(continent)\n",
      "C:\\Users\\UYENTR~1\\AppData\\Local\\Temp/ipykernel_2944/114109292.py:36: DeprecationWarning: find_element_by_* commands are deprecated. Please use find_element() instead\n",
      "  button = browser.find_element_by_link_text(\"2 Days Ago\")\n",
      "C:\\Users\\UYENTR~1\\AppData\\Local\\Temp/ipykernel_2944/114109292.py:39: DeprecationWarning: find_element_by_* commands are deprecated. Please use find_element() instead\n",
      "  button1 = browser.find_element_by_xpath(continent)\n",
      "C:\\Users\\UYENTR~1\\AppData\\Local\\Temp/ipykernel_2944/114109292.py:36: DeprecationWarning: find_element_by_* commands are deprecated. Please use find_element() instead\n",
      "  button = browser.find_element_by_link_text(\"2 Days Ago\")\n",
      "C:\\Users\\UYENTR~1\\AppData\\Local\\Temp/ipykernel_2944/114109292.py:39: DeprecationWarning: find_element_by_* commands are deprecated. Please use find_element() instead\n",
      "  button1 = browser.find_element_by_xpath(continent)\n",
      "C:\\Users\\UYENTR~1\\AppData\\Local\\Temp/ipykernel_2944/114109292.py:36: DeprecationWarning: find_element_by_* commands are deprecated. Please use find_element() instead\n",
      "  button = browser.find_element_by_link_text(\"2 Days Ago\")\n",
      "C:\\Users\\UYENTR~1\\AppData\\Local\\Temp/ipykernel_2944/114109292.py:39: DeprecationWarning: find_element_by_* commands are deprecated. Please use find_element() instead\n",
      "  button1 = browser.find_element_by_xpath(continent)\n",
      "C:\\Users\\UYENTR~1\\AppData\\Local\\Temp/ipykernel_2944/114109292.py:36: DeprecationWarning: find_element_by_* commands are deprecated. Please use find_element() instead\n",
      "  button = browser.find_element_by_link_text(\"2 Days Ago\")\n",
      "C:\\Users\\UYENTR~1\\AppData\\Local\\Temp/ipykernel_2944/114109292.py:39: DeprecationWarning: find_element_by_* commands are deprecated. Please use find_element() instead\n",
      "  button1 = browser.find_element_by_xpath(continent)\n"
     ]
    }
   ],
   "source": [
    "write_file(world,'all_12032022.csv')\n",
    "write_file(europe,'europe_12032022.csv')\n",
    "write_file(north_america,'north_america_12032022.csv')\n",
    "write_file(asia,'asia_12032022.csv')\n",
    "write_file(south_america,'south_america_12032022.csv')\n",
    "write_file(africa,'africa_12032022.csv')\n",
    "write_file(oceania,'oceania_12032022.csv')"
   ]
  },
  {
   "cell_type": "markdown",
   "id": "04fd333e",
   "metadata": {},
   "source": [
    "# Ý nghĩa dữ liệu"
   ]
  },
  {
   "cell_type": "markdown",
   "id": "b87d80b3",
   "metadata": {},
   "source": [
    "`Country, Other`: Quốc gia hoặc các châu lục\n",
    "\n",
    "`Total Cases`: Tổng số ca nhiễm Covid 19 được phát hiện tính tới ngày thu thập\n",
    "\n",
    "`New Cases`: Số ca nhiễm mới được ghi nhận trong ngày\n",
    "\n",
    "`Total Deaths`: Tổng số ca tử vong tích lũy trong số các trường hợp được phát hiện tính tới ngày thu thập\n",
    "\n",
    "`New Deaths`: Số ca tử vong được ghi nhận trong ngày\n",
    "\n",
    "`Total Recovered`: Tổng số ca hồi phục tích lũy trong số các trường hợp được phát hiện tính tới ngày thu thập\n",
    "\n",
    "`New Recoverd`: Số ca hồi phục được ghi nhận trong ngày\n",
    "\n",
    "`Active Cases`: Số ca đang được điều trị. `Active Cases` = `Total Cases` - `Total Deaths` - `Total Recoverd`\n",
    "\n",
    "`Serious, Critical`: Số ca nhiễm nghiêm trọng hoặc trở nặng tích lũy trong số các trường hợp được phát hiện tính tới ngày thu thập\n",
    "\n",
    "`TotCases/1M pop`: Tỉ lệ người nhiễm Covid 19 so với dân số quốc gia. `TotCases/1M pop` = (`Total Cases` / `Popular`) * `1000`\n",
    "\n",
    "`Deaths/1M pop`: Tỉ lệ người tử vong do Covid 19 so với dân số quốc gia. `Deaths/1M pop` = (`Total Deaths` / `Popular`) * `1000`\n",
    "\n",
    "`Total Tests`: Tổng số ca nghi nhiễm Covid 19 tích lũy trong số các trường hợp được phát hiện tính tới ngày thu thập\n",
    "\n",
    "`Tests/1M pop`: Tỉ lệ các ca nghi nhiễm Covid 19 so với dân số quốc gia. `Tests/1M pop` = (`Total Tests` / `Popular`) * `1000`\n",
    "\n",
    "`Population`: Dân số của một quốc gia"
   ]
  },
  {
   "cell_type": "markdown",
   "id": "a6c0363f",
   "metadata": {},
   "source": [
    "# Tiền xử lý dữ liệu"
   ]
  },
  {
   "cell_type": "code",
   "execution_count": null,
   "id": "ff0551dd",
   "metadata": {},
   "outputs": [],
   "source": [
    "def fixing(cell):\n",
    "    if(not isinstance(cell,str) and math.isnan(cell)):\n",
    "        return np.nan\n",
    "    else:\n",
    "        try:\n",
    "            cell = ''.join(char for char in cell if char.isalnum())\n",
    "        except:\n",
    "            return cell\n",
    "    return cell"
   ]
  },
  {
   "cell_type": "markdown",
   "id": "7890f021",
   "metadata": {},
   "source": [
    "Trong một số trường dữ liệu, ta nhận được các giá trị có dạng như `+11,052`. Điều này sẽ làm cho dữ liệu của trường đó có dạng `object` và gây khó khăn trong việc trực quan hóa dữ liệu hoặc học máy\n",
    "\n",
    "Hàm `fixing` nhận vào 1 giá trị trong 1 trường dữ liệu nào đó (`cell`) và trả về giá trị hợp lệ, thuận tiện cho việc chuyển kiểu dữ liệu từ `object` thành `float64`. Ta sử dụng hàm `join` dùng để cắt bỏ các dấu `+` và `,`. Hàm này không xử lý các giá trị NaN "
   ]
  },
  {
   "cell_type": "code",
   "execution_count": null,
   "id": "c5201dcb",
   "metadata": {},
   "outputs": [],
   "source": [
    "def change_data_type(change_file):\n",
    "    df = pd.read_csv(change_file,sep='\\t',index_col=0)\n",
    "    \n",
    "    df['NewCases']=df['NewCases'].apply(fixing)\n",
    "    df['NewCases']=df['NewCases'].astype(float)\n",
    "    \n",
    "    df['NewDeaths']=df['NewDeaths'].apply(fixing)\n",
    "    df['NewDeaths']=df['NewDeaths'].astype(float)\n",
    "    \n",
    "    df['NewRecovered']=df['NewRecovered'].apply(fixing)\n",
    "    df['NewRecovered']=df['NewRecovered'].astype(float)\n",
    "    \n",
    "    df.to_csv(change_file,sep='\\t', header=True)"
   ]
  },
  {
   "cell_type": "markdown",
   "id": "345eef7e",
   "metadata": {},
   "source": [
    "Các giá trị không hợp lệ ta nhận được từ tập dữ liệu được phân bố ở các cột `NewCases`, `NewDeaths`, `NewRecovered`.\n",
    "\n",
    "Hàm `change_data_type` nhận vào tên 1 file csv (`change_file`) cần chuyển đổi kiểu dữ liệu. Ta đọc file csv này và chuyển thành kiểu dataframe. Từ đó ta sử dụng hàm `apply` và `astype` của pandas để sửa lỗi và chuyển kiểu dữ liệu của giá trị đó"
   ]
  },
  {
   "cell_type": "markdown",
   "id": "6b3bc19e",
   "metadata": {},
   "source": [
    "# Trực quan hóa dữ liệu"
   ]
  },
  {
   "cell_type": "code",
   "execution_count": null,
   "id": "64cf1dcc",
   "metadata": {},
   "outputs": [],
   "source": [
    "def total_world_and_continents_file(list_files,file_name,date):\n",
    "    total =[]\n",
    "    with open(list_files[0],mode='r') as myfile:\n",
    "        lines = myfile.readlines()\n",
    "        total.append('Date'+lines[0][1:])\n",
    "        total.append(date + '\\t' +lines[1][1:])\n",
    "    for file in list_files[1:]:\n",
    "        with open(file,mode='r') as myfile:\n",
    "            lines = myfile.readlines()\n",
    "            total.append(date + '\\t' +lines[1][1:])\n",
    "        \n",
    "    with open(file_name,mode='w') as myfile:\n",
    "        for row in total:\n",
    "            myfile.writelines(row)"
   ]
  },
  {
   "cell_type": "markdown",
   "id": "d616966c",
   "metadata": {},
   "source": [
    "Hàm `total_world_and_continents_file` trả về 1 file csv tập hợp các hàng total của các tập dữ liệu All và các châu lục\n",
    "\n",
    "-`list_files`: 1 list tên các tên file csv của các tập dữ liệu All và các châu lục trong cùng 1 ngày\n",
    "\n",
    "-`file_name`: tên file csv \n",
    "\n",
    "-`date`: là chuỗi thể hiện ngày tương ứng với các tập dữ liệu All và các châu lục\n",
    "\n",
    "VD: `list_files=['All_07122021.csv',\n",
    "            'europe_07122021.csv',\n",
    "            'north_america_07122021.csv',\n",
    "            'asia_07122021.csv',\n",
    "            'south_america_07122021.csv',\n",
    "            'africa_07122021.csv',\n",
    "            'oceania_07122021.csv',]`\n",
    "            \n",
    "`total_world_and_continents_file(list_files,'total_07122021.csv','20211207')`"
   ]
  },
  {
   "cell_type": "code",
   "execution_count": null,
   "id": "ee0a434a",
   "metadata": {
    "scrolled": false
   },
   "outputs": [],
   "source": [
    "def compare_world_and_continents(field):\n",
    "    df1 = pd.read_csv('total_01122021.csv',sep='\\t')\n",
    "    df2 = pd.read_csv('total_02122021.csv',sep='\\t')\n",
    "    df3 = pd.read_csv('total_03122021.csv',sep='\\t')\n",
    "    df4 = pd.read_csv('total_04122021.csv',sep='\\t')\n",
    "    df5 = pd.read_csv('total_05122021.csv',sep='\\t')\n",
    "    df6 = pd.read_csv('total_06122021.csv',sep='\\t')\n",
    "    df7 = pd.read_csv('total_07122021.csv',sep='\\t')\n",
    "    concatenated = pd.concat([df1, df2,df3,df4,df5,df6,df7])\n",
    "    concatenated['Date'] = pd.to_datetime(concatenated['Date'].astype(str), format='%Y%m%d')\n",
    "    \n",
    "    plt.figure(figsize = (16,9))\n",
    "    sns.set(style='darkgrid',)\n",
    "     \n",
    "    # Draw line plot of Date and field with parameters and hue \"Country,Other\"\n",
    "    sns.lineplot(x = 'Date', y = field, data = concatenated, hue = 'Country,Other',\n",
    "         dashes = False,markers = 'o-',  legend=\"brief\",)\n",
    "     \n",
    "    plt.title('Line Plot of '+field, fontsize = 20)\n",
    "    plt.xlabel(\"Date\", fontsize = 15)\n",
    "    plt.ylabel(field, fontsize = 15)\n",
    "    \n",
    "    \n",
    "    plt.show()\n",
    "\n",
    "compare_world_and_continents('TotalCases')\n",
    "compare_world_and_continents('TotalDeaths')\n",
    "compare_world_and_continents('TotalRecovered')"
   ]
  },
  {
   "cell_type": "markdown",
   "id": "c7baf297",
   "metadata": {},
   "source": [
    "Hàm `compare_world_and_continents` sử dụng biểu đồ đường `line chart` để so sánh số liệu giữa thể giới với các châu lục và giữa các châu lục với nhau về một trường dữ liệu nào đó (`field`)\n"
   ]
  },
  {
   "cell_type": "code",
   "execution_count": null,
   "id": "204fcac8",
   "metadata": {},
   "outputs": [],
   "source": [
    "def visual_NaN():\n",
    "    df = pd.read_csv('All_07122021.csv',sep='\\t',index_col=1)\n",
    "    df=df.iloc[:,1:]\n",
    "    plt.figure(figsize=(10,8))\n",
    "    sns.heatmap(df.isna())\n",
    "    plt.title('Visualize NaN of data fields', fontsize = 20)\n",
    "    plt.show()\n",
    "\n",
    "#Biểu đồ trực quan giá trị NaN của các quốc gia trên Thế giới vào ngày thu thập cần nhất\n",
    "visual_NaN()"
   ]
  },
  {
   "cell_type": "markdown",
   "id": "24579f88",
   "metadata": {},
   "source": [
    "Hàm `visual_NaN()` sử dụng bản đồ nhiệt `heatmap` để trực quan hóa các giá trị `NaN` của tập dữ liệu All của ngày thu thập gần nhất, cụ thể là ngày 07/12/2021 "
   ]
  },
  {
   "cell_type": "code",
   "execution_count": null,
   "id": "5474377c",
   "metadata": {},
   "outputs": [],
   "source": [
    "#Xet su tuong quan\n",
    "def visual_correlation():\n",
    "    df = pd.read_csv('All_07122021.csv',sep='\\t',index_col=0)\n",
    "    corr = df.corr()\n",
    "    plt.figure(figsize=(12,8))\n",
    "    sns.heatmap(data=corr,annot=True)\n",
    "    plt.title('Visualize correlation between data fields', fontsize = 20)\n",
    "    plt.show()\n",
    "visual_correlation()"
   ]
  },
  {
   "cell_type": "markdown",
   "id": "e0dee262",
   "metadata": {},
   "source": [
    "Hàm `visual_correlation()` sử dụng bản đồ nhiệt `heatmap` để trực quan hóa sự tương quan giữa các trường dữ liệu trong tập dữ liệu All của ngày thu thập gần nhất, cụ thể là ngày 07/12/2021 "
   ]
  },
  {
   "cell_type": "code",
   "execution_count": null,
   "id": "d9c8254a",
   "metadata": {},
   "outputs": [],
   "source": [
    "def compare_continents(field):\n",
    "    df = pd.read_csv('total_07122021.csv',sep='\\t')\n",
    "    \n",
    "    labels = df['Country,Other'].iloc[1:]\n",
    "    sizes = df[field].iloc[1:]\n",
    "    explode = [0, 0, 0, 0,0,0.2]\n",
    "    colors = ['gold', 'yellowgreen', 'lightcoral', 'lightskyblue','green','red']\n",
    "    \n",
    "    fig,ax = plt.subplots(figsize=(6, 6))\n",
    "    ax.pie(sizes, labels=labels,explode = explode,colors=colors, autopct='%.1f%%',\n",
    "           textprops={'size': 'x-large'})\n",
    "    ax.set_title(field, fontsize=18)\n",
    "    plt.show()\n",
    "    \n",
    "compare_continents('TotalCases')\n",
    "compare_continents('TotalDeaths')\n",
    "compare_continents('TotalRecovered')"
   ]
  },
  {
   "cell_type": "markdown",
   "id": "4953af10",
   "metadata": {},
   "source": [
    "Hàm `compare_continents` sử dụng biểu đồ tròn `pie chart` để so sánh số liệu giữa các châu lục về 1 trường dữ liệu nào đó"
   ]
  },
  {
   "cell_type": "code",
   "execution_count": null,
   "id": "6a142fd9",
   "metadata": {
    "scrolled": false
   },
   "outputs": [],
   "source": [
    "def compare_countries(file_name,continents):\n",
    "    df = pd.read_csv(file_name,sep='\\t')\n",
    "    new_df = df.iloc[1:-1]\n",
    "    new_df = new_df.loc[:,'Country,Other':'Serious,Critical']\n",
    "    new_df.plot.barh(x='Country,Other', stacked=True,\n",
    "        title='Stacked Bar Chart of '+continents, \n",
    "        figsize=(16,9))\n",
    "\n",
    "    plt.show()\n",
    "    \n",
    "compare_countries('africa_07122021.csv','Africa')\n",
    "compare_countries('asia_07122021.csv','Asia')\n",
    "compare_countries('north_america_07122021.csv','North America')\n",
    "compare_countries('oceania_07122021.csv','Oceania')\n",
    "compare_countries('europe_07122021.csv','Europe')\n",
    "compare_countries('south_america_07122021.csv','South America')"
   ]
  },
  {
   "cell_type": "markdown",
   "id": "4b861eef",
   "metadata": {},
   "source": [
    "Hàm `compare_countries` sử dụng biểu đồ cột chồng `stacked bar chart` để so sánh số liệu giữa các quốc gia trong cùng một châu lục về một số trường dữ liệu nhất định"
   ]
  }
 ],
 "metadata": {
  "kernelspec": {
   "display_name": "Python 3 (ipykernel)",
   "language": "python",
   "name": "python3"
  },
  "language_info": {
   "codemirror_mode": {
    "name": "ipython",
    "version": 3
   },
   "file_extension": ".py",
   "mimetype": "text/x-python",
   "name": "python",
   "nbconvert_exporter": "python",
   "pygments_lexer": "ipython3",
   "version": "3.8.8"
  }
 },
 "nbformat": 4,
 "nbformat_minor": 5
}

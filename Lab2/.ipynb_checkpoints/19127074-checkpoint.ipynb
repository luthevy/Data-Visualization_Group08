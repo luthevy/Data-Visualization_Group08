{
 "cells": [
  {
   "cell_type": "code",
   "execution_count": 1,
   "id": "0a2bd460",
   "metadata": {},
   "outputs": [],
   "source": [
    "import numpy as np\n",
    "import matplotlib.pyplot as plt\n",
    "import scipy\n",
    "from scipy.stats import shapiro\n",
    "from scipy.stats import chi2_contingency\n",
    "import tabpy_client"
   ]
  },
  {
   "cell_type": "code",
   "execution_count": 2,
   "id": "b0a87525",
   "metadata": {},
   "outputs": [],
   "source": [
    "#Connect to tabpy\n",
    "connection = tabpy_client.Client('http://localhost:9004/')"
   ]
  },
  {
   "cell_type": "markdown",
   "id": "1485bf1d",
   "metadata": {},
   "source": [
    "### Kiểm định sự phân phối Chuẩn của trường dữ liệu TotalCases trong tập dữ liệu total_12032022"
   ]
  },
  {
   "cell_type": "code",
   "execution_count": 3,
   "id": "8280229a",
   "metadata": {},
   "outputs": [],
   "source": [
    "def check_normal(_arg):\n",
    "    data = np.array(_arg)\n",
    "    stat, p = shapiro(data)\n",
    "    return p"
   ]
  },
  {
   "cell_type": "code",
   "execution_count": 4,
   "id": "f50819a9",
   "metadata": {},
   "outputs": [],
   "source": [
    "connection.deploy('check_normal',check_normal,override=True)"
   ]
  },
  {
   "cell_type": "markdown",
   "id": "8a70fb17",
   "metadata": {},
   "source": [
    "### Sử dụng histogram để biểu diễn trường dữ liệu TotalCases"
   ]
  },
  {
   "cell_type": "code",
   "execution_count": 5,
   "id": "cac5f70f",
   "metadata": {},
   "outputs": [],
   "source": [
    "def plot_histogram(_arg):\n",
    "    plt.hist(_arg)\n",
    "    plt.show()"
   ]
  },
  {
   "cell_type": "code",
   "execution_count": 6,
   "id": "28de85c5",
   "metadata": {},
   "outputs": [],
   "source": [
    "connection.deploy('plot_histogram',plot_histogram,override=True)"
   ]
  },
  {
   "cell_type": "markdown",
   "id": "b3cfa9b2",
   "metadata": {},
   "source": [
    "### Khu vực có ảnh hưởng đến tình hình diễn biến dịch bệnh Covid 19 không"
   ]
  },
  {
   "cell_type": "code",
   "execution_count": 7,
   "id": "6a8c6270",
   "metadata": {},
   "outputs": [],
   "source": [
    "def hypothesis(_arg1,_arg2,_arg3):\n",
    "    data = np.column_stack([_arg1,_arg2,_arg3])\n",
    "    \n",
    "    stat, p, dof= chi2_contingency(data)[0:3]\n",
    "     \n",
    "    #significance_level = 0.05\n",
    "    #print(\"p value: \" + str(p)) \n",
    "    #if p <= significance_level: \n",
    "    #    print('Reject NULL HYPOTHESIS') \n",
    "    #else: \n",
    "    #    print('ACCEPT NULL HYPOTHESIS') \n",
    "    return p"
   ]
  },
  {
   "cell_type": "code",
   "execution_count": 8,
   "id": "93798fc5",
   "metadata": {},
   "outputs": [],
   "source": [
    "connection.deploy('hypothesis',hypothesis,override=True)"
   ]
  }
 ],
 "metadata": {
  "kernelspec": {
   "display_name": "Python 3",
   "language": "python",
   "name": "python3"
  },
  "language_info": {
   "codemirror_mode": {
    "name": "ipython",
    "version": 3
   },
   "file_extension": ".py",
   "mimetype": "text/x-python",
   "name": "python",
   "nbconvert_exporter": "python",
   "pygments_lexer": "ipython3",
   "version": "3.8.8"
  }
 },
 "nbformat": 4,
 "nbformat_minor": 5
}
